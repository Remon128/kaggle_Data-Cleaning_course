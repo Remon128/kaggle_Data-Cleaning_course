{
 "cells": [
  {
   "cell_type": "markdown",
   "id": "4d7b5ad7",
   "metadata": {
    "papermill": {
     "duration": 0.021988,
     "end_time": "2022-02-11T15:40:33.861172",
     "exception": false,
     "start_time": "2022-02-11T15:40:33.839184",
     "status": "completed"
    },
    "tags": []
   },
   "source": [
    "**This notebook is an exercise in the [Data Cleaning](https://www.kaggle.com/learn/data-cleaning) course.  You can reference the tutorial at [this link](https://www.kaggle.com/alexisbcook/scaling-and-normalization).**\n",
    "\n",
    "---\n"
   ]
  },
  {
   "cell_type": "markdown",
   "id": "0b963500",
   "metadata": {
    "papermill": {
     "duration": 0.020325,
     "end_time": "2022-02-11T15:40:33.904437",
     "exception": false,
     "start_time": "2022-02-11T15:40:33.884112",
     "status": "completed"
    },
    "tags": []
   },
   "source": [
    "In this exercise, you'll apply what you learned in the **Scaling and normalization** tutorial.\n",
    "\n",
    "# Setup\n",
    "\n",
    "The questions below will give you feedback on your work. Run the following cell to set up the feedback system."
   ]
  },
  {
   "cell_type": "code",
   "execution_count": 1,
   "id": "ef85c8f3",
   "metadata": {
    "execution": {
     "iopub.execute_input": "2022-02-11T15:40:33.950404Z",
     "iopub.status.busy": "2022-02-11T15:40:33.949203Z",
     "iopub.status.idle": "2022-02-11T15:40:37.617290Z",
     "shell.execute_reply": "2022-02-11T15:40:37.617900Z",
     "shell.execute_reply.started": "2022-02-11T14:50:21.227898Z"
    },
    "papermill": {
     "duration": 3.693108,
     "end_time": "2022-02-11T15:40:37.618225",
     "exception": false,
     "start_time": "2022-02-11T15:40:33.925117",
     "status": "completed"
    },
    "tags": []
   },
   "outputs": [
    {
     "name": "stdout",
     "output_type": "stream",
     "text": [
      "Setup Complete\n"
     ]
    }
   ],
   "source": [
    "from learntools.core import binder\n",
    "binder.bind(globals())\n",
    "from learntools.data_cleaning.ex2 import *\n",
    "print(\"Setup Complete\")"
   ]
  },
  {
   "cell_type": "markdown",
   "id": "19d200c0",
   "metadata": {
    "papermill": {
     "duration": 0.020946,
     "end_time": "2022-02-11T15:40:37.661339",
     "exception": false,
     "start_time": "2022-02-11T15:40:37.640393",
     "status": "completed"
    },
    "tags": []
   },
   "source": [
    "# Get our environment set up\n",
    "\n",
    "To practice scaling and normalization, we're going to use a [dataset of Kickstarter campaigns](https://www.kaggle.com/kemical/kickstarter-projects). (Kickstarter is a website where people can ask people to invest in various projects and concept products.)\n",
    "\n",
    "The next code cell loads in the libraries and dataset we'll be using. "
   ]
  },
  {
   "cell_type": "code",
   "execution_count": 2,
   "id": "642191a7",
   "metadata": {
    "execution": {
     "iopub.execute_input": "2022-02-11T15:40:37.710788Z",
     "iopub.status.busy": "2022-02-11T15:40:37.709519Z",
     "iopub.status.idle": "2022-02-11T15:40:39.273616Z",
     "shell.execute_reply": "2022-02-11T15:40:39.274189Z",
     "shell.execute_reply.started": "2022-02-11T14:50:28.962999Z"
    },
    "papermill": {
     "duration": 1.591852,
     "end_time": "2022-02-11T15:40:39.274383",
     "exception": false,
     "start_time": "2022-02-11T15:40:37.682531",
     "status": "completed"
    },
    "tags": []
   },
   "outputs": [],
   "source": [
    "# modules we'll use\n",
    "import pandas as pd\n",
    "import numpy as np\n",
    "\n",
    "# for Box-Cox Transformation\n",
    "from scipy import stats\n",
    "\n",
    "# for min_max scaling\n",
    "from mlxtend.preprocessing import minmax_scaling\n",
    "\n",
    "# plotting modules\n",
    "import seaborn as sns\n",
    "import matplotlib.pyplot as plt\n",
    "\n",
    "# read in all our data\n",
    "kickstarters_2017 = pd.read_csv(\"../input/kickstarter-projects/ks-projects-201801.csv\")\n",
    "\n",
    "# set seed for reproducibility\n",
    "np.random.seed(0)"
   ]
  },
  {
   "cell_type": "markdown",
   "id": "173537fe",
   "metadata": {
    "papermill": {
     "duration": 0.021974,
     "end_time": "2022-02-11T15:40:39.317734",
     "exception": false,
     "start_time": "2022-02-11T15:40:39.295760",
     "status": "completed"
    },
    "tags": []
   },
   "source": [
    "Let's start by scaling the goals of each campaign, which is how much money they were asking for.  After scaling, all values lie between 0 and 1."
   ]
  },
  {
   "cell_type": "code",
   "execution_count": 3,
   "id": "5c3d501b",
   "metadata": {
    "execution": {
     "iopub.execute_input": "2022-02-11T15:40:39.364209Z",
     "iopub.status.busy": "2022-02-11T15:40:39.363208Z",
     "iopub.status.idle": "2022-02-11T15:40:39.399943Z",
     "shell.execute_reply": "2022-02-11T15:40:39.400416Z",
     "shell.execute_reply.started": "2022-02-11T14:50:35.170465Z"
    },
    "papermill": {
     "duration": 0.06159,
     "end_time": "2022-02-11T15:40:39.400596",
     "exception": false,
     "start_time": "2022-02-11T15:40:39.339006",
     "status": "completed"
    },
    "tags": []
   },
   "outputs": [
    {
     "name": "stdout",
     "output_type": "stream",
     "text": [
      "Original data\n",
      "Preview:\n",
      "    usd_goal_real\n",
      "0        1533.95\n",
      "1       30000.00\n",
      "2       45000.00\n",
      "3        5000.00\n",
      "4       19500.00\n",
      "Minimum value: 0.01 \n",
      "Maximum value: 166361390.71\n",
      "______________________________\n",
      "\n",
      "Scaled data\n",
      "Preview:\n",
      "    usd_goal_real\n",
      "0       0.000009\n",
      "1       0.000180\n",
      "2       0.000270\n",
      "3       0.000030\n",
      "4       0.000117\n",
      "Minimum value: 0.0 \n",
      "Maximum value: 1.0\n"
     ]
    }
   ],
   "source": [
    "# select the usd_goal_real column\n",
    "original_data = pd.DataFrame(kickstarters_2017.usd_goal_real)\n",
    "\n",
    "# scale the goals from 0 to 1\n",
    "scaled_data = minmax_scaling(original_data, columns=['usd_goal_real'])\n",
    "\n",
    "print('Original data\\nPreview:\\n', original_data.head())\n",
    "print('Minimum value:', float(original_data.min()),\n",
    "      '\\nMaximum value:', float(original_data.max()))\n",
    "print('_'*30)\n",
    "\n",
    "print('\\nScaled data\\nPreview:\\n', scaled_data.head())\n",
    "print('Minimum value:', float(scaled_data.min()),\n",
    "      '\\nMaximum value:', float(scaled_data.max()))"
   ]
  },
  {
   "cell_type": "markdown",
   "id": "f0d0e3d9",
   "metadata": {
    "papermill": {
     "duration": 0.021007,
     "end_time": "2022-02-11T15:40:39.443045",
     "exception": false,
     "start_time": "2022-02-11T15:40:39.422038",
     "status": "completed"
    },
    "tags": []
   },
   "source": [
    "# 1) Practice scaling\n",
    "\n",
    "We just scaled the \"usd_goal_real\" column. What about the \"goal\" column?\n",
    "\n",
    "Begin by running the code cell below to create a DataFrame `original_goal_data` containing the \"goal\" column."
   ]
  },
  {
   "cell_type": "code",
   "execution_count": 4,
   "id": "4aa5800e",
   "metadata": {
    "execution": {
     "iopub.execute_input": "2022-02-11T15:40:39.490548Z",
     "iopub.status.busy": "2022-02-11T15:40:39.489541Z",
     "iopub.status.idle": "2022-02-11T15:40:39.495009Z",
     "shell.execute_reply": "2022-02-11T15:40:39.495526Z",
     "shell.execute_reply.started": "2022-02-11T15:06:50.002721Z"
    },
    "papermill": {
     "duration": 0.030661,
     "end_time": "2022-02-11T15:40:39.495697",
     "exception": false,
     "start_time": "2022-02-11T15:40:39.465036",
     "status": "completed"
    },
    "tags": []
   },
   "outputs": [],
   "source": [
    "# select the usd_goal_real column\n",
    "original_goal_data = pd.DataFrame(kickstarters_2017.goal)"
   ]
  },
  {
   "cell_type": "markdown",
   "id": "4464631e",
   "metadata": {
    "papermill": {
     "duration": 0.021072,
     "end_time": "2022-02-11T15:40:39.538544",
     "exception": false,
     "start_time": "2022-02-11T15:40:39.517472",
     "status": "completed"
    },
    "tags": []
   },
   "source": [
    "Use `original_goal_data` to create a new DataFrame `scaled_goal_data` with values scaled between 0 and 1. You must use the `minmax_scaling()` function."
   ]
  },
  {
   "cell_type": "code",
   "execution_count": 5,
   "id": "28239857",
   "metadata": {
    "execution": {
     "iopub.execute_input": "2022-02-11T15:40:39.590317Z",
     "iopub.status.busy": "2022-02-11T15:40:39.584206Z",
     "iopub.status.idle": "2022-02-11T15:40:39.597163Z",
     "shell.execute_reply": "2022-02-11T15:40:39.597665Z",
     "shell.execute_reply.started": "2022-02-11T15:09:31.215347Z"
    },
    "papermill": {
     "duration": 0.037764,
     "end_time": "2022-02-11T15:40:39.597836",
     "exception": false,
     "start_time": "2022-02-11T15:40:39.560072",
     "status": "completed"
    },
    "tags": []
   },
   "outputs": [
    {
     "data": {
      "text/html": [
       "<div>\n",
       "<style scoped>\n",
       "    .dataframe tbody tr th:only-of-type {\n",
       "        vertical-align: middle;\n",
       "    }\n",
       "\n",
       "    .dataframe tbody tr th {\n",
       "        vertical-align: top;\n",
       "    }\n",
       "\n",
       "    .dataframe thead th {\n",
       "        text-align: right;\n",
       "    }\n",
       "</style>\n",
       "<table border=\"1\" class=\"dataframe\">\n",
       "  <thead>\n",
       "    <tr style=\"text-align: right;\">\n",
       "      <th></th>\n",
       "      <th>goal</th>\n",
       "    </tr>\n",
       "  </thead>\n",
       "  <tbody>\n",
       "    <tr>\n",
       "      <th>0</th>\n",
       "      <td>1000.0</td>\n",
       "    </tr>\n",
       "    <tr>\n",
       "      <th>1</th>\n",
       "      <td>30000.0</td>\n",
       "    </tr>\n",
       "    <tr>\n",
       "      <th>2</th>\n",
       "      <td>45000.0</td>\n",
       "    </tr>\n",
       "    <tr>\n",
       "      <th>3</th>\n",
       "      <td>5000.0</td>\n",
       "    </tr>\n",
       "    <tr>\n",
       "      <th>4</th>\n",
       "      <td>19500.0</td>\n",
       "    </tr>\n",
       "  </tbody>\n",
       "</table>\n",
       "</div>"
      ],
      "text/plain": [
       "      goal\n",
       "0   1000.0\n",
       "1  30000.0\n",
       "2  45000.0\n",
       "3   5000.0\n",
       "4  19500.0"
      ]
     },
     "execution_count": 5,
     "metadata": {},
     "output_type": "execute_result"
    }
   ],
   "source": [
    "original_goal_data.head()"
   ]
  },
  {
   "cell_type": "code",
   "execution_count": 6,
   "id": "469b0111",
   "metadata": {
    "execution": {
     "iopub.execute_input": "2022-02-11T15:40:39.648477Z",
     "iopub.status.busy": "2022-02-11T15:40:39.647488Z",
     "iopub.status.idle": "2022-02-11T15:40:39.672184Z",
     "shell.execute_reply": "2022-02-11T15:40:39.672729Z",
     "shell.execute_reply.started": "2022-02-11T15:10:35.373575Z"
    },
    "papermill": {
     "duration": 0.050655,
     "end_time": "2022-02-11T15:40:39.672913",
     "exception": false,
     "start_time": "2022-02-11T15:40:39.622258",
     "status": "completed"
    },
    "tags": []
   },
   "outputs": [
    {
     "data": {
      "application/javascript": [
       "parent.postMessage({\"jupyterEvent\": \"custom.exercise_interaction\", \"data\": {\"outcomeType\": 1, \"valueTowardsCompletion\": 0.3333333333333333, \"interactionType\": 1, \"questionType\": 1, \"questionId\": \"1_TryScaling\", \"learnToolsVersion\": \"0.3.4\", \"failureMessage\": \"\", \"exceptionClass\": \"\", \"trace\": \"\"}}, \"*\")"
      ],
      "text/plain": [
       "<IPython.core.display.Javascript object>"
      ]
     },
     "metadata": {},
     "output_type": "display_data"
    },
    {
     "data": {
      "text/markdown": [
       "<span style=\"color:#33cc33\">Correct</span>"
      ],
      "text/plain": [
       "Correct"
      ]
     },
     "metadata": {},
     "output_type": "display_data"
    }
   ],
   "source": [
    "# TODO: Your code here\n",
    "scaled_goal_data = minmax_scaling(original_goal_data,columns=['goal'])\n",
    "\n",
    "# Check your answer\n",
    "q1.check()"
   ]
  },
  {
   "cell_type": "code",
   "execution_count": 7,
   "id": "67480aa2",
   "metadata": {
    "execution": {
     "iopub.execute_input": "2022-02-11T15:40:39.723412Z",
     "iopub.status.busy": "2022-02-11T15:40:39.722423Z",
     "iopub.status.idle": "2022-02-11T15:40:39.730572Z",
     "shell.execute_reply": "2022-02-11T15:40:39.731087Z",
     "shell.execute_reply.started": "2022-02-11T15:10:38.599875Z"
    },
    "papermill": {
     "duration": 0.035236,
     "end_time": "2022-02-11T15:40:39.731266",
     "exception": false,
     "start_time": "2022-02-11T15:40:39.696030",
     "status": "completed"
    },
    "tags": []
   },
   "outputs": [
    {
     "data": {
      "application/javascript": [
       "parent.postMessage({\"jupyterEvent\": \"custom.exercise_interaction\", \"data\": {\"interactionType\": 3, \"questionType\": 1, \"questionId\": \"1_TryScaling\", \"learnToolsVersion\": \"0.3.4\", \"valueTowardsCompletion\": 0.0, \"failureMessage\": \"\", \"exceptionClass\": \"\", \"trace\": \"\", \"outcomeType\": 4}}, \"*\")"
      ],
      "text/plain": [
       "<IPython.core.display.Javascript object>"
      ]
     },
     "metadata": {},
     "output_type": "display_data"
    },
    {
     "data": {
      "text/markdown": [
       "<span style=\"color:#33cc99\">Solution:</span> \n",
       "```python\n",
       "scaled_goal_data = minmax_scaling(original_goal_data, columns=['goal'])\n",
       "\n",
       "```"
      ],
      "text/plain": [
       "Solution: \n",
       "```python\n",
       "scaled_goal_data = minmax_scaling(original_goal_data, columns=['goal'])\n",
       "\n",
       "```"
      ]
     },
     "metadata": {},
     "output_type": "display_data"
    }
   ],
   "source": [
    "# Lines below will give you a hint or solution code\n",
    "#q1.hint()\n",
    "q1.solution()"
   ]
  },
  {
   "cell_type": "markdown",
   "id": "a8a558f6",
   "metadata": {
    "papermill": {
     "duration": 0.024234,
     "end_time": "2022-02-11T15:40:39.780176",
     "exception": false,
     "start_time": "2022-02-11T15:40:39.755942",
     "status": "completed"
    },
    "tags": []
   },
   "source": [
    "# 2) Practice normalization\n",
    "\n",
    "Now you'll practice normalization. We begin by normalizing the amount of money pledged to each campaign."
   ]
  },
  {
   "cell_type": "code",
   "execution_count": 8,
   "id": "afb8997f",
   "metadata": {
    "execution": {
     "iopub.execute_input": "2022-02-11T15:40:39.837687Z",
     "iopub.status.busy": "2022-02-11T15:40:39.837012Z",
     "iopub.status.idle": "2022-02-11T15:40:40.065021Z",
     "shell.execute_reply": "2022-02-11T15:40:40.064330Z",
     "shell.execute_reply.started": "2022-02-11T15:13:28.174987Z"
    },
    "papermill": {
     "duration": 0.260529,
     "end_time": "2022-02-11T15:40:40.065166",
     "exception": false,
     "start_time": "2022-02-11T15:40:39.804637",
     "status": "completed"
    },
    "tags": []
   },
   "outputs": [
    {
     "name": "stdout",
     "output_type": "stream",
     "text": [
      "Original data\n",
      "Preview:\n",
      " 1     2421.0\n",
      "2      220.0\n",
      "3        1.0\n",
      "4     1283.0\n",
      "5    52375.0\n",
      "Name: usd_pledged_real, dtype: float64\n",
      "Minimum value: 0.45 \n",
      "Maximum value: 20338986.27\n",
      "______________________________\n",
      "\n",
      "Normalized data\n",
      "Preview:\n",
      " 1    10.165142\n",
      "2     6.468598\n",
      "3     0.000000\n",
      "4     9.129277\n",
      "5    15.836853\n",
      "Name: usd_pledged_real, dtype: float64\n",
      "Minimum value: -0.7779954122762203 \n",
      "Maximum value: 30.69054020451361\n"
     ]
    }
   ],
   "source": [
    "# get the index of all positive pledges (Box-Cox only takes positive values)\n",
    "index_of_positive_pledges = kickstarters_2017.usd_pledged_real > 0\n",
    "\n",
    "# get only positive pledges (using their indexes)\n",
    "positive_pledges = kickstarters_2017.usd_pledged_real.loc[index_of_positive_pledges]\n",
    "\n",
    "# normalize the pledges (w/ Box-Cox)\n",
    "normalized_pledges = pd.Series(stats.boxcox(positive_pledges)[0], \n",
    "                               name='usd_pledged_real', index=positive_pledges.index)\n",
    "\n",
    "print('Original data\\nPreview:\\n', positive_pledges.head())\n",
    "print('Minimum value:', float(positive_pledges.min()),\n",
    "      '\\nMaximum value:', float(positive_pledges.max()))\n",
    "print('_'*30)\n",
    "\n",
    "print('\\nNormalized data\\nPreview:\\n', normalized_pledges.head())\n",
    "print('Minimum value:', float(normalized_pledges.min()),\n",
    "      '\\nMaximum value:', float(normalized_pledges.max()))"
   ]
  },
  {
   "cell_type": "markdown",
   "id": "527fb1fd",
   "metadata": {
    "papermill": {
     "duration": 0.024523,
     "end_time": "2022-02-11T15:40:40.114736",
     "exception": false,
     "start_time": "2022-02-11T15:40:40.090213",
     "status": "completed"
    },
    "tags": []
   },
   "source": [
    "The values have changed significantly with normalization!\n",
    "\n",
    "In the next code cell, you'll take a look at the distribution of the normalized data, where it should now resemble a normal distribution."
   ]
  },
  {
   "cell_type": "code",
   "execution_count": 9,
   "id": "4f77e1a0",
   "metadata": {
    "execution": {
     "iopub.execute_input": "2022-02-11T15:40:40.193944Z",
     "iopub.status.busy": "2022-02-11T15:40:40.188805Z",
     "iopub.status.idle": "2022-02-11T15:40:42.267627Z",
     "shell.execute_reply": "2022-02-11T15:40:42.267124Z",
     "shell.execute_reply.started": "2022-02-11T15:14:43.575202Z"
    },
    "papermill": {
     "duration": 2.128137,
     "end_time": "2022-02-11T15:40:42.267767",
     "exception": false,
     "start_time": "2022-02-11T15:40:40.139630",
     "status": "completed"
    },
    "tags": []
   },
   "outputs": [
    {
     "data": {
      "image/png": "[encoded data removed]",
      "text/plain": [
       "<Figure size 432x288 with 1 Axes>"
      ]
     },
     "metadata": {
      "needs_background": "light"
     },
     "output_type": "display_data"
    }
   ],
   "source": [
    "# plot normalized data\n",
    "ax = sns.histplot(normalized_pledges, kde=True)\n",
    "ax.set_title(\"Normalized data\")\n",
    "plt.show()"
   ]
  },
  {
   "cell_type": "markdown",
   "id": "27a21bda",
   "metadata": {
    "papermill": {
     "duration": 0.025756,
     "end_time": "2022-02-11T15:40:42.319577",
     "exception": false,
     "start_time": "2022-02-11T15:40:42.293821",
     "status": "completed"
    },
    "tags": []
   },
   "source": [
    "We used the \"usd_pledged_real\" column. Follow the same process to normalize the \"pledged\" column. "
   ]
  },
  {
   "cell_type": "code",
   "execution_count": 10,
   "id": "e1386512",
   "metadata": {
    "execution": {
     "iopub.execute_input": "2022-02-11T15:40:42.380232Z",
     "iopub.status.busy": "2022-02-11T15:40:42.379512Z",
     "iopub.status.idle": "2022-02-11T15:40:42.597955Z",
     "shell.execute_reply": "2022-02-11T15:40:42.598584Z",
     "shell.execute_reply.started": "2022-02-11T15:29:36.308231Z"
    },
    "papermill": {
     "duration": 0.252985,
     "end_time": "2022-02-11T15:40:42.598756",
     "exception": false,
     "start_time": "2022-02-11T15:40:42.345771",
     "status": "completed"
    },
    "tags": []
   },
   "outputs": [
    {
     "name": "stdout",
     "output_type": "stream",
     "text": [
      "Original data:\n",
      " 1     2421.0\n",
      "2      220.0\n",
      "3        1.0\n",
      "4     1283.0\n",
      "5    52375.0\n",
      "Name: usd_pledged_real, dtype: float64\n",
      "Minimum value: 0.45 \n",
      "Maximum value: 20338986.27\n",
      "______________________________\n",
      "\n",
      "Normalized data\n",
      "Preview:\n",
      " 1    10.165142\n",
      "2     6.468598\n",
      "3     0.000000\n",
      "4     9.129277\n",
      "5    15.836853\n",
      "Name: pledged, dtype: float64\n",
      "Minimum value: -0.7779954122762203 \n",
      "Maximum value: 30.69054020451361\n"
     ]
    }
   ],
   "source": [
    "# TODO: Your code here!\n",
    "index_of_positive_pledges = kickstarters_2017.pledged > 0\n",
    "positive_pledges = kickstarters_2017.usd_pledged_real.loc[index_of_positive_pledges]\n",
    "\n",
    "# normalize the pledges (w/ Box-Cox)\n",
    "normalized_pledges = pd.Series(stats.boxcox(positive_pledges)[0], \n",
    "                               name='pledged', index=positive_pledges.index)\n",
    "\n",
    "print('Original data:\\n', positive_pledges.head())\n",
    "print('Minimum value:', float(positive_pledges.min()),\n",
    "      '\\nMaximum value:', float(positive_pledges.max()))\n",
    "print('_'*30)\n",
    "\n",
    "print('\\nNormalized data\\nPreview:\\n', normalized_pledges.head())\n",
    "print('Minimum value:', float(normalized_pledges.min()),\n",
    "      '\\nMaximum value:', float(normalized_pledges.max()))"
   ]
  },
  {
   "cell_type": "code",
   "execution_count": 11,
   "id": "821f5e8b",
   "metadata": {
    "execution": {
     "iopub.execute_input": "2022-02-11T15:40:42.713846Z",
     "iopub.status.busy": "2022-02-11T15:40:42.682459Z",
     "iopub.status.idle": "2022-02-11T15:40:44.742901Z",
     "shell.execute_reply": "2022-02-11T15:40:44.742368Z",
     "shell.execute_reply.started": "2022-02-11T15:34:28.752710Z"
    },
    "papermill": {
     "duration": 2.117766,
     "end_time": "2022-02-11T15:40:44.743056",
     "exception": false,
     "start_time": "2022-02-11T15:40:42.625290",
     "status": "completed"
    },
    "tags": []
   },
   "outputs": [
    {
     "data": {
      "image/png": "[encoded data removed]",
      "text/plain": [
       "<Figure size 432x288 with 1 Axes>"
      ]
     },
     "metadata": {
      "needs_background": "light"
     },
     "output_type": "display_data"
    }
   ],
   "source": [
    "ax = sns.histplot(normalized_pledges, kde=True)\n",
    "ax.set_title(\"Normalized data\")\n",
    "plt.show()"
   ]
  },
  {
   "cell_type": "markdown",
   "id": "b73228a0",
   "metadata": {
    "papermill": {
     "duration": 0.027826,
     "end_time": "2022-02-11T15:40:44.800040",
     "exception": false,
     "start_time": "2022-02-11T15:40:44.772214",
     "status": "completed"
    },
    "tags": []
   },
   "source": [
    "How does the normalized \"usd_pledged_real\" column look different from when we normalized the \"pledged\" column?  Or, do they look mostly the same?\n",
    "\n",
    "Once you have an answer, run the code cell below."
   ]
  },
  {
   "cell_type": "code",
   "execution_count": 12,
   "id": "38764e65",
   "metadata": {
    "execution": {
     "iopub.execute_input": "2022-02-11T15:40:44.858974Z",
     "iopub.status.busy": "2022-02-11T15:40:44.858308Z",
     "iopub.status.idle": "2022-02-11T15:40:44.864581Z",
     "shell.execute_reply": "2022-02-11T15:40:44.865223Z",
     "shell.execute_reply.started": "2022-02-11T15:33:15.426873Z"
    },
    "papermill": {
     "duration": 0.037587,
     "end_time": "2022-02-11T15:40:44.865408",
     "exception": false,
     "start_time": "2022-02-11T15:40:44.827821",
     "status": "completed"
    },
    "tags": []
   },
   "outputs": [
    {
     "data": {
      "application/javascript": [
       "parent.postMessage({\"jupyterEvent\": \"custom.exercise_interaction\", \"data\": {\"outcomeType\": 1, \"valueTowardsCompletion\": 0.3333333333333333, \"interactionType\": 1, \"questionType\": 4, \"questionId\": \"2_TryNormalization\", \"learnToolsVersion\": \"0.3.4\", \"failureMessage\": \"\", \"exceptionClass\": \"\", \"trace\": \"\"}}, \"*\")"
      ],
      "text/plain": [
       "<IPython.core.display.Javascript object>"
      ]
     },
     "metadata": {},
     "output_type": "display_data"
    },
    {
     "data": {
      "text/markdown": [
       "<span style=\"color:#33cc33\">Correct:</span> \n",
       "\n",
       "The distributions in the normalized data look mostly the same."
      ],
      "text/plain": [
       "Correct: \n",
       "\n",
       "The distributions in the normalized data look mostly the same."
      ]
     },
     "metadata": {},
     "output_type": "display_data"
    }
   ],
   "source": [
    "# Check your answer (Run this code cell to receive credit!)\n",
    "q2.check()"
   ]
  },
  {
   "cell_type": "code",
   "execution_count": 13,
   "id": "e9561c79",
   "metadata": {
    "execution": {
     "iopub.execute_input": "2022-02-11T15:40:44.927124Z",
     "iopub.status.busy": "2022-02-11T15:40:44.926430Z",
     "iopub.status.idle": "2022-02-11T15:40:44.929322Z",
     "shell.execute_reply": "2022-02-11T15:40:44.929832Z"
    },
    "papermill": {
     "duration": 0.035022,
     "end_time": "2022-02-11T15:40:44.930031",
     "exception": false,
     "start_time": "2022-02-11T15:40:44.895009",
     "status": "completed"
    },
    "tags": []
   },
   "outputs": [],
   "source": [
    "# Line below will give you a hint\n",
    "#q2.hint()"
   ]
  },
  {
   "cell_type": "markdown",
   "id": "0e468551",
   "metadata": {
    "papermill": {
     "duration": 0.028819,
     "end_time": "2022-02-11T15:40:44.988250",
     "exception": false,
     "start_time": "2022-02-11T15:40:44.959431",
     "status": "completed"
    },
    "tags": []
   },
   "source": [
    "# (Optional) More practice\n",
    "\n",
    "Try finding a new dataset and pretend you're preparing to perform a [regression analysis](https://www.kaggle.com/rtatman/the-5-day-regression-challenge). \n",
    "\n",
    "[These datasets are a good start!](https://www.kaggle.com/rtatman/datasets-for-regression-analysis)\n",
    "\n",
    "Pick three or four variables and decide if you need to normalize or scale any of them and, if you think you should, practice applying the correct technique.\n",
    "\n",
    "# Keep going\n",
    "\n",
    "In the next lesson, learn how to [**parse dates**](https://www.kaggle.com/alexisbcook/parsing-dates) in a dataset."
   ]
  },
  {
   "cell_type": "markdown",
   "id": "f4813157",
   "metadata": {
    "papermill": {
     "duration": 0.029234,
     "end_time": "2022-02-11T15:40:45.046554",
     "exception": false,
     "start_time": "2022-02-11T15:40:45.017320",
     "status": "completed"
    },
    "tags": []
   },
   "source": [
    "---\n",
    "\n",
    "\n",
    "\n",
    "\n",
    "*Have questions or comments? Visit the [course discussion forum](https://www.kaggle.com/learn/data-cleaning/discussion) to chat with other learners.*"
   ]
  }
 ],
 "metadata": {
  "kernelspec": {
   "display_name": "Python 3",
   "language": "python",
   "name": "python3"
  },
  "language_info": {
   "codemirror_mode": {
    "name": "ipython",
    "version": 3
   },
   "file_extension": ".py",
   "mimetype": "text/x-python",
   "name": "python",
   "nbconvert_exporter": "python",
   "pygments_lexer": "ipython3",
   "version": "3.7.12"
  },
  "papermill": {
   "default_parameters": {},
   "duration": 21.771299,
   "end_time": "2022-02-11T15:40:45.886584",
   "environment_variables": {},
   "exception": null,
   "input_path": "__notebook__.ipynb",
   "output_path": "__notebook__.ipynb",
   "parameters": {},
   "start_time": "2022-02-11T15:40:24.115285",
   "version": "2.3.3"
  }
 },
 "nbformat": 4,
 "nbformat_minor": 5
}
