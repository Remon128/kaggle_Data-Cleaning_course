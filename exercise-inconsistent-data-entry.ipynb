{
 "cells": [
  {
   "cell_type": "markdown",
   "id": "083a9c5a",
   "metadata": {
    "papermill": {
     "duration": 0.023314,
     "end_time": "2022-02-11T20:56:38.874808",
     "exception": false,
     "start_time": "2022-02-11T20:56:38.851494",
     "status": "completed"
    },
    "tags": []
   },
   "source": [
    "**This notebook is an exercise in the [Data Cleaning](https://www.kaggle.com/learn/data-cleaning) course.  You can reference the tutorial at [this link](https://www.kaggle.com/alexisbcook/inconsistent-data-entry).**\n",
    "\n",
    "---\n"
   ]
  },
  {
   "cell_type": "markdown",
   "id": "de6b6a1e",
   "metadata": {
    "papermill": {
     "duration": 0.021516,
     "end_time": "2022-02-11T20:56:38.921476",
     "exception": false,
     "start_time": "2022-02-11T20:56:38.899960",
     "status": "completed"
    },
    "tags": []
   },
   "source": [
    "In this exercise, you'll apply what you learned in the **Inconsistent data entry** tutorial.\n",
    "\n",
    "# Setup\n",
    "\n",
    "The questions below will give you feedback on your work. Run the following cell to set up the feedback system."
   ]
  },
  {
   "cell_type": "code",
   "execution_count": 1,
   "id": "6034ff75",
   "metadata": {
    "execution": {
     "iopub.execute_input": "2022-02-11T20:56:38.976984Z",
     "iopub.status.busy": "2022-02-11T20:56:38.976103Z",
     "iopub.status.idle": "2022-02-11T20:56:39.075945Z",
     "shell.execute_reply": "2022-02-11T20:56:39.076762Z",
     "shell.execute_reply.started": "2022-02-11T20:37:17.084872Z"
    },
    "papermill": {
     "duration": 0.133203,
     "end_time": "2022-02-11T20:56:39.077181",
     "exception": false,
     "start_time": "2022-02-11T20:56:38.943978",
     "status": "completed"
    },
    "tags": []
   },
   "outputs": [
    {
     "name": "stdout",
     "output_type": "stream",
     "text": [
      "Setup Complete\n"
     ]
    }
   ],
   "source": [
    "from learntools.core import binder\n",
    "binder.bind(globals())\n",
    "from learntools.data_cleaning.ex5 import *\n",
    "print(\"Setup Complete\")"
   ]
  },
  {
   "cell_type": "markdown",
   "id": "a3ce65f7",
   "metadata": {
    "papermill": {
     "duration": 0.02157,
     "end_time": "2022-02-11T20:56:39.121914",
     "exception": false,
     "start_time": "2022-02-11T20:56:39.100344",
     "status": "completed"
    },
    "tags": []
   },
   "source": [
    "# Get our environment set up\n",
    "\n",
    "The first thing we'll need to do is load in the libraries and dataset we'll be using.  We use the same dataset from the tutorial."
   ]
  },
  {
   "cell_type": "code",
   "execution_count": 2,
   "id": "8bfc51c4",
   "metadata": {
    "execution": {
     "iopub.execute_input": "2022-02-11T20:56:39.172001Z",
     "iopub.status.busy": "2022-02-11T20:56:39.171195Z",
     "iopub.status.idle": "2022-02-11T20:56:39.183854Z",
     "shell.execute_reply": "2022-02-11T20:56:39.184400Z",
     "shell.execute_reply.started": "2022-02-11T20:37:19.473269Z"
    },
    "papermill": {
     "duration": 0.040855,
     "end_time": "2022-02-11T20:56:39.184592",
     "exception": false,
     "start_time": "2022-02-11T20:56:39.143737",
     "status": "completed"
    },
    "tags": []
   },
   "outputs": [],
   "source": [
    "# modules we'll use\n",
    "import pandas as pd\n",
    "import numpy as np\n",
    "\n",
    "# helpful modules\n",
    "import fuzzywuzzy\n",
    "from fuzzywuzzy import process\n",
    "import chardet\n",
    "\n",
    "# read in all our data\n",
    "professors = pd.read_csv(\"../input/pakistan-intellectual-capital/pakistan_intellectual_capital.csv\")\n",
    "\n",
    "# set seed for reproducibility\n",
    "np.random.seed(0)"
   ]
  },
  {
   "cell_type": "markdown",
   "id": "9be411a6",
   "metadata": {
    "papermill": {
     "duration": 0.022178,
     "end_time": "2022-02-11T20:56:39.228650",
     "exception": false,
     "start_time": "2022-02-11T20:56:39.206472",
     "status": "completed"
    },
    "tags": []
   },
   "source": [
    "Next, we'll redo all of the work that we did in the tutorial."
   ]
  },
  {
   "cell_type": "code",
   "execution_count": 3,
   "id": "ab015fe6",
   "metadata": {
    "execution": {
     "iopub.execute_input": "2022-02-11T20:56:39.284480Z",
     "iopub.status.busy": "2022-02-11T20:56:39.283749Z",
     "iopub.status.idle": "2022-02-11T20:56:39.307528Z",
     "shell.execute_reply": "2022-02-11T20:56:39.308134Z",
     "shell.execute_reply.started": "2022-02-11T20:37:21.284007Z"
    },
    "papermill": {
     "duration": 0.057689,
     "end_time": "2022-02-11T20:56:39.308325",
     "exception": false,
     "start_time": "2022-02-11T20:56:39.250636",
     "status": "completed"
    },
    "tags": []
   },
   "outputs": [
    {
     "data": {
      "text/html": [
       "<div>\n",
       "<style scoped>\n",
       "    .dataframe tbody tr th:only-of-type {\n",
       "        vertical-align: middle;\n",
       "    }\n",
       "\n",
       "    .dataframe tbody tr th {\n",
       "        vertical-align: top;\n",
       "    }\n",
       "\n",
       "    .dataframe thead th {\n",
       "        text-align: right;\n",
       "    }\n",
       "</style>\n",
       "<table border=\"1\" class=\"dataframe\">\n",
       "  <thead>\n",
       "    <tr style=\"text-align: right;\">\n",
       "      <th></th>\n",
       "      <th>Unnamed: 0</th>\n",
       "      <th>S#</th>\n",
       "      <th>Teacher Name</th>\n",
       "      <th>University Currently Teaching</th>\n",
       "      <th>Department</th>\n",
       "      <th>Province University Located</th>\n",
       "      <th>Designation</th>\n",
       "      <th>Terminal Degree</th>\n",
       "      <th>Graduated from</th>\n",
       "      <th>Country</th>\n",
       "      <th>Year</th>\n",
       "      <th>Area of Specialization/Research Interests</th>\n",
       "      <th>Other Information</th>\n",
       "    </tr>\n",
       "  </thead>\n",
       "  <tbody>\n",
       "    <tr>\n",
       "      <th>108</th>\n",
       "      <td>300</td>\n",
       "      <td>301</td>\n",
       "      <td>Hareem-e-Sahar</td>\n",
       "      <td>FAST-NU(Islamabad)</td>\n",
       "      <td>Computer Science</td>\n",
       "      <td>Capital</td>\n",
       "      <td>Lecturer</td>\n",
       "      <td>BS</td>\n",
       "      <td>FAST– National University of Computer and Emer...</td>\n",
       "      <td>Pakistan</td>\n",
       "      <td>2014.0</td>\n",
       "      <td>NaN</td>\n",
       "      <td>NaN</td>\n",
       "    </tr>\n",
       "    <tr>\n",
       "      <th>661</th>\n",
       "      <td>1247</td>\n",
       "      <td>1248</td>\n",
       "      <td>IMTIAZ ALI KOREJO</td>\n",
       "      <td>University of Sindh</td>\n",
       "      <td>Institute of Mathematics &amp; Computer Science</td>\n",
       "      <td>Sindh</td>\n",
       "      <td>Associate Professor</td>\n",
       "      <td>PhD</td>\n",
       "      <td>University of Leicester</td>\n",
       "      <td>UK</td>\n",
       "      <td>2012.0</td>\n",
       "      <td>NaN</td>\n",
       "      <td>NaN</td>\n",
       "    </tr>\n",
       "    <tr>\n",
       "      <th>397</th>\n",
       "      <td>821</td>\n",
       "      <td>822</td>\n",
       "      <td>Amna Shahnawaz</td>\n",
       "      <td>University of Central Punjab</td>\n",
       "      <td>Computer Science</td>\n",
       "      <td>Punjab</td>\n",
       "      <td>Associate Professor</td>\n",
       "      <td>MS</td>\n",
       "      <td>Lahore University of Management Sciences</td>\n",
       "      <td>Pakistan</td>\n",
       "      <td>2017.0</td>\n",
       "      <td>NaN</td>\n",
       "      <td>NaN</td>\n",
       "    </tr>\n",
       "    <tr>\n",
       "      <th>1006</th>\n",
       "      <td>1695</td>\n",
       "      <td>1696</td>\n",
       "      <td>Aden Iqbal</td>\n",
       "      <td>NFC Institute of Engineering and Fertilizer Re...</td>\n",
       "      <td>Computer Science</td>\n",
       "      <td>Punjab</td>\n",
       "      <td>Lecturer</td>\n",
       "      <td>MS</td>\n",
       "      <td>National Textile University</td>\n",
       "      <td>Pakistan</td>\n",
       "      <td>NaN</td>\n",
       "      <td>NaN</td>\n",
       "      <td>NaN</td>\n",
       "    </tr>\n",
       "    <tr>\n",
       "      <th>240</th>\n",
       "      <td>468</td>\n",
       "      <td>469</td>\n",
       "      <td>Mr. Syed Awais Haider</td>\n",
       "      <td>Capital University of Science and Technology</td>\n",
       "      <td>Computer Science</td>\n",
       "      <td>Capital</td>\n",
       "      <td>Lecturer</td>\n",
       "      <td>Mphil</td>\n",
       "      <td>Quaid-i-Azam University</td>\n",
       "      <td>Pakistan</td>\n",
       "      <td>2012.0</td>\n",
       "      <td>NaN</td>\n",
       "      <td>NaN</td>\n",
       "    </tr>\n",
       "  </tbody>\n",
       "</table>\n",
       "</div>"
      ],
      "text/plain": [
       "      Unnamed: 0    S#           Teacher Name  \\\n",
       "108          300   301         Hareem-e-Sahar   \n",
       "661         1247  1248      IMTIAZ ALI KOREJO   \n",
       "397          821   822         Amna Shahnawaz   \n",
       "1006        1695  1696             Aden Iqbal   \n",
       "240          468   469  Mr. Syed Awais Haider   \n",
       "\n",
       "                          University Currently Teaching  \\\n",
       "108                                  FAST-NU(Islamabad)   \n",
       "661                                 University of Sindh   \n",
       "397                        University of Central Punjab   \n",
       "1006  NFC Institute of Engineering and Fertilizer Re...   \n",
       "240        Capital University of Science and Technology   \n",
       "\n",
       "                                       Department Province University Located  \\\n",
       "108                              Computer Science                     Capital   \n",
       "661   Institute of Mathematics & Computer Science                       Sindh   \n",
       "397                              Computer Science                      Punjab   \n",
       "1006                             Computer Science                      Punjab   \n",
       "240                              Computer Science                     Capital   \n",
       "\n",
       "              Designation Terminal Degree  \\\n",
       "108              Lecturer              BS   \n",
       "661   Associate Professor             PhD   \n",
       "397   Associate Professor              MS   \n",
       "1006             Lecturer              MS   \n",
       "240              Lecturer           Mphil   \n",
       "\n",
       "                                         Graduated from   Country    Year  \\\n",
       "108   FAST– National University of Computer and Emer...  Pakistan  2014.0   \n",
       "661                             University of Leicester        UK  2012.0   \n",
       "397            Lahore University of Management Sciences  Pakistan  2017.0   \n",
       "1006                        National Textile University  Pakistan     NaN   \n",
       "240                             Quaid-i-Azam University  Pakistan  2012.0   \n",
       "\n",
       "     Area of Specialization/Research Interests Other Information  \n",
       "108                                        NaN               NaN  \n",
       "661                                        NaN               NaN  \n",
       "397                                        NaN               NaN  \n",
       "1006                                       NaN               NaN  \n",
       "240                                        NaN               NaN  "
      ]
     },
     "execution_count": 3,
     "metadata": {},
     "output_type": "execute_result"
    }
   ],
   "source": [
    "professors.sample(5)"
   ]
  },
  {
   "cell_type": "code",
   "execution_count": 4,
   "id": "3de57962",
   "metadata": {
    "execution": {
     "iopub.execute_input": "2022-02-11T20:56:39.376632Z",
     "iopub.status.busy": "2022-02-11T20:56:39.375938Z",
     "iopub.status.idle": "2022-02-11T20:56:39.379906Z",
     "shell.execute_reply": "2022-02-11T20:56:39.380692Z",
     "shell.execute_reply.started": "2022-02-11T20:37:22.637294Z"
    },
    "papermill": {
     "duration": 0.047831,
     "end_time": "2022-02-11T20:56:39.380928",
     "exception": false,
     "start_time": "2022-02-11T20:56:39.333097",
     "status": "completed"
    },
    "tags": []
   },
   "outputs": [
    {
     "name": "stdout",
     "output_type": "stream",
     "text": [
      "All done!\n"
     ]
    }
   ],
   "source": [
    "# convert to lower case\n",
    "professors['Country'] = professors['Country'].str.lower()\n",
    "# remove trailing white spaces\n",
    "professors['Country'] = professors['Country'].str.strip()\n",
    "\n",
    "# get the top 10 closest matches to \"south korea\"\n",
    "countries = professors['Country'].unique()\n",
    "matches = fuzzywuzzy.process.extract(\"south korea\", countries, limit=10, scorer=fuzzywuzzy.fuzz.token_sort_ratio)\n",
    "\n",
    "def replace_matches_in_column(df, column, string_to_match, min_ratio = 47):\n",
    "    # get a list of unique strings\n",
    "    strings = df[column].unique()\n",
    "    \n",
    "    # get the top 10 closest matches to our input string\n",
    "    matches = fuzzywuzzy.process.extract(string_to_match, strings, \n",
    "                                         limit=10, scorer=fuzzywuzzy.fuzz.token_sort_ratio)\n",
    "\n",
    "    # only get matches with a ratio > 90\n",
    "    close_matches = [matches[0] for matches in matches if matches[1] >= min_ratio]\n",
    "\n",
    "    # get the rows of all the close matches in our dataframe\n",
    "    rows_with_matches = df[column].isin(close_matches)\n",
    "\n",
    "    # replace all rows with close matches with the input matches \n",
    "    df.loc[rows_with_matches, column] = string_to_match\n",
    "    \n",
    "    # let us know the function's done\n",
    "    print(\"All done!\")\n",
    "    \n",
    "replace_matches_in_column(df=professors, column='Country', string_to_match=\"south korea\")\n",
    "countries = professors['Country'].unique()"
   ]
  },
  {
   "cell_type": "markdown",
   "id": "f001dfbf",
   "metadata": {
    "papermill": {
     "duration": 0.02515,
     "end_time": "2022-02-11T20:56:39.431412",
     "exception": false,
     "start_time": "2022-02-11T20:56:39.406262",
     "status": "completed"
    },
    "tags": []
   },
   "source": [
    "# 1) Examine another column\n",
    "\n",
    "Write code below to take a look at all the unique values in the \"Graduated from\" column."
   ]
  },
  {
   "cell_type": "code",
   "execution_count": 5,
   "id": "a88ae790",
   "metadata": {
    "execution": {
     "iopub.execute_input": "2022-02-11T20:56:39.481977Z",
     "iopub.status.busy": "2022-02-11T20:56:39.481353Z",
     "iopub.status.idle": "2022-02-11T20:56:39.485447Z",
     "shell.execute_reply": "2022-02-11T20:56:39.486080Z",
     "shell.execute_reply.started": "2022-02-11T20:37:30.865547Z"
    },
    "papermill": {
     "duration": 0.030388,
     "end_time": "2022-02-11T20:56:39.486242",
     "exception": false,
     "start_time": "2022-02-11T20:56:39.455854",
     "status": "completed"
    },
    "tags": []
   },
   "outputs": [],
   "source": [
    "# TODO: Your code here\n",
    "graduated_from = professors['Graduated from'].unique()"
   ]
  },
  {
   "cell_type": "markdown",
   "id": "cc77001d",
   "metadata": {
    "papermill": {
     "duration": 0.023807,
     "end_time": "2022-02-11T20:56:39.533878",
     "exception": false,
     "start_time": "2022-02-11T20:56:39.510071",
     "status": "completed"
    },
    "tags": []
   },
   "source": [
    "Do you notice any inconsistencies in the data?  Can any of the inconsistencies in the data be fixed by removing white spaces at the beginning and end of cells?\n",
    "\n",
    "Once you have answered these questions, run the code cell below to get credit for your work."
   ]
  },
  {
   "cell_type": "code",
   "execution_count": 6,
   "id": "3003b0f9",
   "metadata": {
    "execution": {
     "iopub.execute_input": "2022-02-11T20:56:39.587643Z",
     "iopub.status.busy": "2022-02-11T20:56:39.586967Z",
     "iopub.status.idle": "2022-02-11T20:56:39.593145Z",
     "shell.execute_reply": "2022-02-11T20:56:39.593637Z",
     "shell.execute_reply.started": "2022-02-11T20:37:33.992859Z"
    },
    "papermill": {
     "duration": 0.035704,
     "end_time": "2022-02-11T20:56:39.593859",
     "exception": false,
     "start_time": "2022-02-11T20:56:39.558155",
     "status": "completed"
    },
    "tags": []
   },
   "outputs": [
    {
     "data": {
      "application/javascript": [
       "parent.postMessage({\"jupyterEvent\": \"custom.exercise_interaction\", \"data\": {\"outcomeType\": 1, \"valueTowardsCompletion\": 0.3333333333333333, \"interactionType\": 1, \"questionType\": 4, \"questionId\": \"1_ExamineProvince\", \"learnToolsVersion\": \"0.3.4\", \"failureMessage\": \"\", \"exceptionClass\": \"\", \"trace\": \"\"}}, \"*\")"
      ],
      "text/plain": [
       "<IPython.core.display.Javascript object>"
      ]
     },
     "metadata": {},
     "output_type": "display_data"
    },
    {
     "data": {
      "text/markdown": [
       "<span style=\"color:#33cc33\">Correct:</span> \n",
       "\n",
       "There are inconsistencies that can be fixed by removing white spaces at the beginning and end of cells.  For instance, \"University of Central Florida\" and \" University of Central Florida\" both appear in the column."
      ],
      "text/plain": [
       "Correct: \n",
       "\n",
       "There are inconsistencies that can be fixed by removing white spaces at the beginning and end of cells.  For instance, \"University of Central Florida\" and \" University of Central Florida\" both appear in the column."
      ]
     },
     "metadata": {},
     "output_type": "display_data"
    }
   ],
   "source": [
    "# Check your answer (Run this code cell to receive credit!)\n",
    "q1.check()"
   ]
  },
  {
   "cell_type": "code",
   "execution_count": 7,
   "id": "d2256d5f",
   "metadata": {
    "execution": {
     "iopub.execute_input": "2022-02-11T20:56:39.649469Z",
     "iopub.status.busy": "2022-02-11T20:56:39.648603Z",
     "iopub.status.idle": "2022-02-11T20:56:39.657108Z",
     "shell.execute_reply": "2022-02-11T20:56:39.656423Z",
     "shell.execute_reply.started": "2022-02-11T20:37:37.626762Z"
    },
    "papermill": {
     "duration": 0.036961,
     "end_time": "2022-02-11T20:56:39.657252",
     "exception": false,
     "start_time": "2022-02-11T20:56:39.620291",
     "status": "completed"
    },
    "tags": []
   },
   "outputs": [
    {
     "data": {
      "application/javascript": [
       "parent.postMessage({\"jupyterEvent\": \"custom.exercise_interaction\", \"data\": {\"interactionType\": 2, \"questionType\": 4, \"questionId\": \"1_ExamineProvince\", \"learnToolsVersion\": \"0.3.4\", \"valueTowardsCompletion\": 0.0, \"failureMessage\": \"\", \"exceptionClass\": \"\", \"trace\": \"\", \"outcomeType\": 4}}, \"*\")"
      ],
      "text/plain": [
       "<IPython.core.display.Javascript object>"
      ]
     },
     "metadata": {},
     "output_type": "display_data"
    },
    {
     "data": {
      "text/markdown": [
       "<span style=\"color:#3366cc\">Hint:</span> Use `unis = professors['Graduated from'].unique()` to take a look at the unique values in the 'Graduated from' column. You may find it useful to sort the data before printing it."
      ],
      "text/plain": [
       "Hint: Use `unis = professors['Graduated from'].unique()` to take a look at the unique values in the 'Graduated from' column. You may find it useful to sort the data before printing it."
      ]
     },
     "metadata": {},
     "output_type": "display_data"
    }
   ],
   "source": [
    "# Line below will give you a hint\n",
    "q1.hint()"
   ]
  },
  {
   "cell_type": "markdown",
   "id": "4e38600a",
   "metadata": {
    "papermill": {
     "duration": 0.025882,
     "end_time": "2022-02-11T20:56:39.711393",
     "exception": false,
     "start_time": "2022-02-11T20:56:39.685511",
     "status": "completed"
    },
    "tags": []
   },
   "source": [
    "# 2) Do some text pre-processing\n",
    "\n",
    "Convert every entry in the \"Graduated from\" column in the `professors` DataFrame to remove white spaces at the beginning and end of cells."
   ]
  },
  {
   "cell_type": "code",
   "execution_count": 8,
   "id": "5ab984f0",
   "metadata": {
    "execution": {
     "iopub.execute_input": "2022-02-11T20:56:39.773951Z",
     "iopub.status.busy": "2022-02-11T20:56:39.773181Z",
     "iopub.status.idle": "2022-02-11T20:56:39.778895Z",
     "shell.execute_reply": "2022-02-11T20:56:39.778320Z",
     "shell.execute_reply.started": "2022-02-11T20:41:23.574833Z"
    },
    "papermill": {
     "duration": 0.041187,
     "end_time": "2022-02-11T20:56:39.779040",
     "exception": false,
     "start_time": "2022-02-11T20:56:39.737853",
     "status": "completed"
    },
    "tags": []
   },
   "outputs": [
    {
     "data": {
      "application/javascript": [
       "parent.postMessage({\"jupyterEvent\": \"custom.exercise_interaction\", \"data\": {\"outcomeType\": 1, \"valueTowardsCompletion\": 0.3333333333333333, \"interactionType\": 1, \"questionType\": 1, \"questionId\": \"2_TextProcessing\", \"learnToolsVersion\": \"0.3.4\", \"failureMessage\": \"\", \"exceptionClass\": \"\", \"trace\": \"\"}}, \"*\")"
      ],
      "text/plain": [
       "<IPython.core.display.Javascript object>"
      ]
     },
     "metadata": {},
     "output_type": "display_data"
    },
    {
     "data": {
      "text/markdown": [
       "<span style=\"color:#33cc33\">Correct</span>"
      ],
      "text/plain": [
       "Correct"
      ]
     },
     "metadata": {},
     "output_type": "display_data"
    }
   ],
   "source": [
    "# TODO: Your code here\n",
    "professors['Graduated from'] = professors['Graduated from'].str.strip()\n",
    "# Check your answer\n",
    "q2.check()"
   ]
  },
  {
   "cell_type": "code",
   "execution_count": 9,
   "id": "2ea3f245",
   "metadata": {
    "execution": {
     "iopub.execute_input": "2022-02-11T20:56:39.838073Z",
     "iopub.status.busy": "2022-02-11T20:56:39.837368Z",
     "iopub.status.idle": "2022-02-11T20:56:39.848498Z",
     "shell.execute_reply": "2022-02-11T20:56:39.847934Z",
     "shell.execute_reply.started": "2022-02-11T20:42:05.156930Z"
    },
    "papermill": {
     "duration": 0.042294,
     "end_time": "2022-02-11T20:56:39.848694",
     "exception": false,
     "start_time": "2022-02-11T20:56:39.806400",
     "status": "completed"
    },
    "tags": []
   },
   "outputs": [
    {
     "data": {
      "application/javascript": [
       "parent.postMessage({\"jupyterEvent\": \"custom.exercise_interaction\", \"data\": {\"interactionType\": 2, \"questionType\": 1, \"questionId\": \"2_TextProcessing\", \"learnToolsVersion\": \"0.3.4\", \"valueTowardsCompletion\": 0.0, \"failureMessage\": \"\", \"exceptionClass\": \"\", \"trace\": \"\", \"outcomeType\": 4}}, \"*\")"
      ],
      "text/plain": [
       "<IPython.core.display.Javascript object>"
      ]
     },
     "metadata": {},
     "output_type": "display_data"
    },
    {
     "data": {
      "text/markdown": [
       "<span style=\"color:#3366cc\">Hint:</span> In the tutorial, you did the same operation on a different column."
      ],
      "text/plain": [
       "Hint: In the tutorial, you did the same operation on a different column."
      ]
     },
     "metadata": {},
     "output_type": "display_data"
    },
    {
     "data": {
      "application/javascript": [
       "parent.postMessage({\"jupyterEvent\": \"custom.exercise_interaction\", \"data\": {\"interactionType\": 3, \"questionType\": 1, \"questionId\": \"2_TextProcessing\", \"learnToolsVersion\": \"0.3.4\", \"valueTowardsCompletion\": 0.0, \"failureMessage\": \"\", \"exceptionClass\": \"\", \"trace\": \"\", \"outcomeType\": 4}}, \"*\")"
      ],
      "text/plain": [
       "<IPython.core.display.Javascript object>"
      ]
     },
     "metadata": {},
     "output_type": "display_data"
    },
    {
     "data": {
      "text/markdown": [
       "<span style=\"color:#33cc99\">Solution:</span> \n",
       "```python\n",
       "professors['Graduated from'] = professors['Graduated from'].str.strip()\n",
       "\n",
       "```"
      ],
      "text/plain": [
       "Solution: \n",
       "```python\n",
       "professors['Graduated from'] = professors['Graduated from'].str.strip()\n",
       "\n",
       "```"
      ]
     },
     "metadata": {},
     "output_type": "display_data"
    }
   ],
   "source": [
    "# Lines below will give you a hint or solution code\n",
    "q2.hint()\n",
    "q2.solution()"
   ]
  },
  {
   "cell_type": "markdown",
   "id": "863f1bd1",
   "metadata": {
    "papermill": {
     "duration": 0.030822,
     "end_time": "2022-02-11T20:56:39.910584",
     "exception": false,
     "start_time": "2022-02-11T20:56:39.879762",
     "status": "completed"
    },
    "tags": []
   },
   "source": [
    "# 3) Continue working with countries\n",
    "\n",
    "In the tutorial, we focused on cleaning up inconsistencies in the \"Country\" column.  Run the code cell below to view the list of unique values that we ended with."
   ]
  },
  {
   "cell_type": "code",
   "execution_count": 10,
   "id": "6f0832f4",
   "metadata": {
    "execution": {
     "iopub.execute_input": "2022-02-11T20:56:39.980498Z",
     "iopub.status.busy": "2022-02-11T20:56:39.979746Z",
     "iopub.status.idle": "2022-02-11T20:56:39.982381Z",
     "shell.execute_reply": "2022-02-11T20:56:39.982975Z",
     "shell.execute_reply.started": "2022-02-11T20:42:28.774368Z"
    },
    "papermill": {
     "duration": 0.041155,
     "end_time": "2022-02-11T20:56:39.983148",
     "exception": false,
     "start_time": "2022-02-11T20:56:39.941993",
     "status": "completed"
    },
    "tags": []
   },
   "outputs": [
    {
     "data": {
      "text/plain": [
       "array(['australia', 'austria', 'canada', 'china', 'finland', 'france',\n",
       "       'germany', 'greece', 'hongkong', 'ireland', 'italy', 'japan',\n",
       "       'macau', 'malaysia', 'mauritius', 'netherland', 'new zealand',\n",
       "       'norway', 'pakistan', 'portugal', 'russian federation',\n",
       "       'saudi arabia', 'scotland', 'singapore', 'south korea', 'spain',\n",
       "       'sweden', 'thailand', 'turkey', 'uk', 'urbana', 'usa', 'usofa'],\n",
       "      dtype=object)"
      ]
     },
     "execution_count": 10,
     "metadata": {},
     "output_type": "execute_result"
    }
   ],
   "source": [
    "# get all the unique values in the 'City' column\n",
    "countries = professors['Country'].unique()\n",
    "\n",
    "# sort them alphabetically and then take a closer look\n",
    "countries.sort()\n",
    "countries"
   ]
  },
  {
   "cell_type": "markdown",
   "id": "07b4e555",
   "metadata": {
    "papermill": {
     "duration": 0.032609,
     "end_time": "2022-02-11T20:56:40.045722",
     "exception": false,
     "start_time": "2022-02-11T20:56:40.013113",
     "status": "completed"
    },
    "tags": []
   },
   "source": [
    "Take another look at the \"Country\" column and see if there's any more data cleaning we need to do.\n",
    "\n",
    "It looks like 'usa' and 'usofa' should be the same country.  Correct the \"Country\" column in the dataframe to replace 'usofa' with 'usa'.\n",
    "\n",
    "**Use the most recent version of the DataFrame (with the whitespaces at the beginning and end of cells removed) from question 2.**"
   ]
  },
  {
   "cell_type": "code",
   "execution_count": null,
   "id": "a20990af",
   "metadata": {
    "execution": {
     "iopub.execute_input": "2022-02-11T20:50:53.051476Z",
     "iopub.status.busy": "2022-02-11T20:50:53.051157Z",
     "iopub.status.idle": "2022-02-11T20:50:53.062461Z",
     "shell.execute_reply": "2022-02-11T20:50:53.061862Z",
     "shell.execute_reply.started": "2022-02-11T20:50:53.051431Z"
    },
    "papermill": {
     "duration": 0.030817,
     "end_time": "2022-02-11T20:56:40.108938",
     "exception": false,
     "start_time": "2022-02-11T20:56:40.078121",
     "status": "completed"
    },
    "tags": []
   },
   "outputs": [],
   "source": []
  },
  {
   "cell_type": "code",
   "execution_count": 11,
   "id": "544e41aa",
   "metadata": {
    "execution": {
     "iopub.execute_input": "2022-02-11T20:56:40.181419Z",
     "iopub.status.busy": "2022-02-11T20:56:40.180558Z",
     "iopub.status.idle": "2022-02-11T20:56:40.186738Z",
     "shell.execute_reply": "2022-02-11T20:56:40.187250Z",
     "shell.execute_reply.started": "2022-02-11T20:52:35.945372Z"
    },
    "papermill": {
     "duration": 0.047397,
     "end_time": "2022-02-11T20:56:40.187424",
     "exception": false,
     "start_time": "2022-02-11T20:56:40.140027",
     "status": "completed"
    },
    "tags": []
   },
   "outputs": [
    {
     "data": {
      "application/javascript": [
       "parent.postMessage({\"jupyterEvent\": \"custom.exercise_interaction\", \"data\": {\"outcomeType\": 1, \"valueTowardsCompletion\": 0.3333333333333333, \"interactionType\": 1, \"questionType\": 1, \"questionId\": \"3_WorkingWithCities\", \"learnToolsVersion\": \"0.3.4\", \"failureMessage\": \"\", \"exceptionClass\": \"\", \"trace\": \"\"}}, \"*\")"
      ],
      "text/plain": [
       "<IPython.core.display.Javascript object>"
      ]
     },
     "metadata": {},
     "output_type": "display_data"
    },
    {
     "data": {
      "text/markdown": [
       "<span style=\"color:#33cc33\">Correct</span>"
      ],
      "text/plain": [
       "Correct"
      ]
     },
     "metadata": {},
     "output_type": "display_data"
    }
   ],
   "source": [
    "# TODO: Your code here!\n",
    "rows_matches = professors['Country'].isin(['usofa'])\n",
    "professors.loc[rows_matches,'Country'] = 'usa'\n",
    "# Check your answer\n",
    "q3.check()"
   ]
  },
  {
   "cell_type": "code",
   "execution_count": 12,
   "id": "61dce1ec",
   "metadata": {
    "execution": {
     "iopub.execute_input": "2022-02-11T20:56:40.258835Z",
     "iopub.status.busy": "2022-02-11T20:56:40.257744Z",
     "iopub.status.idle": "2022-02-11T20:56:40.264750Z",
     "shell.execute_reply": "2022-02-11T20:56:40.265370Z",
     "shell.execute_reply.started": "2022-02-11T20:53:29.466581Z"
    },
    "papermill": {
     "duration": 0.044466,
     "end_time": "2022-02-11T20:56:40.265558",
     "exception": false,
     "start_time": "2022-02-11T20:56:40.221092",
     "status": "completed"
    },
    "tags": []
   },
   "outputs": [
    {
     "data": {
      "text/plain": [
       "array(['australia', 'austria', 'canada', 'china', 'finland', 'france',\n",
       "       'germany', 'greece', 'hongkong', 'ireland', 'italy', 'japan',\n",
       "       'macau', 'malaysia', 'mauritius', 'netherland', 'new zealand',\n",
       "       'norway', 'pakistan', 'portugal', 'russian federation',\n",
       "       'saudi arabia', 'scotland', 'singapore', 'south korea', 'spain',\n",
       "       'sweden', 'thailand', 'turkey', 'uk', 'urbana', 'usa'],\n",
       "      dtype=object)"
      ]
     },
     "execution_count": 12,
     "metadata": {},
     "output_type": "execute_result"
    }
   ],
   "source": [
    "countries = professors['Country'].unique()\n",
    "countries.sort()\n",
    "countries"
   ]
  },
  {
   "cell_type": "code",
   "execution_count": 13,
   "id": "7b477df7",
   "metadata": {
    "execution": {
     "iopub.execute_input": "2022-02-11T20:56:40.336494Z",
     "iopub.status.busy": "2022-02-11T20:56:40.335177Z",
     "iopub.status.idle": "2022-02-11T20:56:40.341152Z",
     "shell.execute_reply": "2022-02-11T20:56:40.341727Z",
     "shell.execute_reply.started": "2022-02-11T20:52:44.182078Z"
    },
    "papermill": {
     "duration": 0.044874,
     "end_time": "2022-02-11T20:56:40.341911",
     "exception": false,
     "start_time": "2022-02-11T20:56:40.297037",
     "status": "completed"
    },
    "tags": []
   },
   "outputs": [
    {
     "data": {
      "application/javascript": [
       "parent.postMessage({\"jupyterEvent\": \"custom.exercise_interaction\", \"data\": {\"interactionType\": 3, \"questionType\": 1, \"questionId\": \"3_WorkingWithCities\", \"learnToolsVersion\": \"0.3.4\", \"valueTowardsCompletion\": 0.0, \"failureMessage\": \"\", \"exceptionClass\": \"\", \"trace\": \"\", \"outcomeType\": 4}}, \"*\")"
      ],
      "text/plain": [
       "<IPython.core.display.Javascript object>"
      ]
     },
     "metadata": {},
     "output_type": "display_data"
    },
    {
     "data": {
      "text/markdown": [
       "<span style=\"color:#33cc99\">Solution:</span> \n",
       "```python\n",
       "matches = fuzzywuzzy.process.extract(\"usa\", countries, limit=10, scorer=fuzzywuzzy.fuzz.token_sort_ratio)\n",
       "replace_matches_in_column(df=professors, column='Country', string_to_match=\"usa\", min_ratio=70)\n",
       "\n",
       "```"
      ],
      "text/plain": [
       "Solution: \n",
       "```python\n",
       "matches = fuzzywuzzy.process.extract(\"usa\", countries, limit=10, scorer=fuzzywuzzy.fuzz.token_sort_ratio)\n",
       "replace_matches_in_column(df=professors, column='Country', string_to_match=\"usa\", min_ratio=70)\n",
       "\n",
       "```"
      ]
     },
     "metadata": {},
     "output_type": "display_data"
    }
   ],
   "source": [
    "# Lines below will give you a hint or solution code\n",
    "#q3.hint()\n",
    "q3.solution()"
   ]
  },
  {
   "cell_type": "markdown",
   "id": "a8777ee5",
   "metadata": {
    "papermill": {
     "duration": 0.035322,
     "end_time": "2022-02-11T20:56:40.412396",
     "exception": false,
     "start_time": "2022-02-11T20:56:40.377074",
     "status": "completed"
    },
    "tags": []
   },
   "source": [
    "# Congratulations!\n",
    "\n",
    "Congratulations for completing the **Data Cleaning** course on Kaggle Learn!\n",
    "\n",
    "To practice your new skills, you're encouraged to download and investigate some of [Kaggle's Datasets](https://www.kaggle.com/datasets)."
   ]
  },
  {
   "cell_type": "markdown",
   "id": "0ca081c5",
   "metadata": {
    "papermill": {
     "duration": 0.035284,
     "end_time": "2022-02-11T20:56:40.480122",
     "exception": false,
     "start_time": "2022-02-11T20:56:40.444838",
     "status": "completed"
    },
    "tags": []
   },
   "source": [
    "---\n",
    "\n",
    "\n",
    "\n",
    "\n",
    "*Have questions or comments? Visit the [course discussion forum](https://www.kaggle.com/learn/data-cleaning/discussion) to chat with other learners.*"
   ]
  }
 ],
 "metadata": {
  "kernelspec": {
   "display_name": "Python 3",
   "language": "python",
   "name": "python3"
  },
  "language_info": {
   "codemirror_mode": {
    "name": "ipython",
    "version": 3
   },
   "file_extension": ".py",
   "mimetype": "text/x-python",
   "name": "python",
   "nbconvert_exporter": "python",
   "pygments_lexer": "ipython3",
   "version": "3.7.12"
  },
  "papermill": {
   "default_parameters": {},
   "duration": 13.422432,
   "end_time": "2022-02-11T20:56:41.226435",
   "environment_variables": {},
   "exception": null,
   "input_path": "__notebook__.ipynb",
   "output_path": "__notebook__.ipynb",
   "parameters": {},
   "start_time": "2022-02-11T20:56:27.804003",
   "version": "2.3.3"
  }
 },
 "nbformat": 4,
 "nbformat_minor": 5
}
