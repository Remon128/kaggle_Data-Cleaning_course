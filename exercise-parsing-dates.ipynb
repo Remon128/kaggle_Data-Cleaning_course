{
 "cells": [
  {
   "cell_type": "markdown",
   "id": "a3afcf2e",
   "metadata": {
    "papermill": {
     "duration": 0.02491,
     "end_time": "2022-02-11T17:35:04.078300",
     "exception": false,
     "start_time": "2022-02-11T17:35:04.053390",
     "status": "completed"
    },
    "tags": []
   },
   "source": [
    "**This notebook is an exercise in the [Data Cleaning](https://www.kaggle.com/learn/data-cleaning) course.  You can reference the tutorial at [this link](https://www.kaggle.com/alexisbcook/parsing-dates).**\n",
    "\n",
    "---\n"
   ]
  },
  {
   "cell_type": "code",
   "execution_count": null,
   "id": "a11f545c",
   "metadata": {
    "papermill": {
     "duration": 0.023682,
     "end_time": "2022-02-11T17:35:04.126838",
     "exception": false,
     "start_time": "2022-02-11T17:35:04.103156",
     "status": "completed"
    },
    "tags": []
   },
   "outputs": [],
   "source": []
  },
  {
   "cell_type": "markdown",
   "id": "d40644b3",
   "metadata": {
    "papermill": {
     "duration": 0.022835,
     "end_time": "2022-02-11T17:35:04.174735",
     "exception": false,
     "start_time": "2022-02-11T17:35:04.151900",
     "status": "completed"
    },
    "tags": []
   },
   "source": [
    "In this exercise, you'll apply what you learned in the **Parsing dates** tutorial.\n",
    "\n",
    "# Setup\n",
    "\n",
    "The questions below will give you feedback on your work. Run the following cell to set up the feedback system."
   ]
  },
  {
   "cell_type": "code",
   "execution_count": 1,
   "id": "edc4b768",
   "metadata": {
    "execution": {
     "iopub.execute_input": "2022-02-11T17:35:04.226125Z",
     "iopub.status.busy": "2022-02-11T17:35:04.225023Z",
     "iopub.status.idle": "2022-02-11T17:35:05.428990Z",
     "shell.execute_reply": "2022-02-11T17:35:05.429536Z",
     "shell.execute_reply.started": "2022-02-11T15:48:45.965561Z"
    },
    "papermill": {
     "duration": 1.232048,
     "end_time": "2022-02-11T17:35:05.429858",
     "exception": false,
     "start_time": "2022-02-11T17:35:04.197810",
     "status": "completed"
    },
    "tags": []
   },
   "outputs": [
    {
     "name": "stdout",
     "output_type": "stream",
     "text": [
      "Setup Complete\n"
     ]
    }
   ],
   "source": [
    "from learntools.core import binder\n",
    "binder.bind(globals())\n",
    "from learntools.data_cleaning.ex3 import *\n",
    "print(\"Setup Complete\")"
   ]
  },
  {
   "cell_type": "markdown",
   "id": "cace8338",
   "metadata": {
    "papermill": {
     "duration": 0.02321,
     "end_time": "2022-02-11T17:35:05.477637",
     "exception": false,
     "start_time": "2022-02-11T17:35:05.454427",
     "status": "completed"
    },
    "tags": []
   },
   "source": [
    "# Get our environment set up\n",
    "\n",
    "The first thing we'll need to do is load in the libraries and dataset we'll be using. We'll be working with a dataset containing information on earthquakes that occured between 1965 and 2016."
   ]
  },
  {
   "cell_type": "code",
   "execution_count": 2,
   "id": "21217081",
   "metadata": {
    "execution": {
     "iopub.execute_input": "2022-02-11T17:35:05.527596Z",
     "iopub.status.busy": "2022-02-11T17:35:05.527021Z",
     "iopub.status.idle": "2022-02-11T17:35:05.608519Z",
     "shell.execute_reply": "2022-02-11T17:35:05.609090Z",
     "shell.execute_reply.started": "2022-02-11T15:50:13.629802Z"
    },
    "papermill": {
     "duration": 0.108119,
     "end_time": "2022-02-11T17:35:05.609278",
     "exception": false,
     "start_time": "2022-02-11T17:35:05.501159",
     "status": "completed"
    },
    "tags": []
   },
   "outputs": [],
   "source": [
    "# modules we'll use\n",
    "import pandas as pd\n",
    "import numpy as np\n",
    "import seaborn as sns\n",
    "import datetime\n",
    "\n",
    "# read in our data\n",
    "earthquakes = pd.read_csv(\"../input/earthquake-database/database.csv\")\n",
    "\n",
    "# set seed for reproducibility\n",
    "np.random.seed(0)"
   ]
  },
  {
   "cell_type": "markdown",
   "id": "b709a888",
   "metadata": {
    "papermill": {
     "duration": 0.023181,
     "end_time": "2022-02-11T17:35:05.657665",
     "exception": false,
     "start_time": "2022-02-11T17:35:05.634484",
     "status": "completed"
    },
    "tags": []
   },
   "source": [
    "# 1) Check the data type of our date column\n",
    "\n",
    "You'll be working with the \"Date\" column from the `earthquakes` dataframe.  Investigate this column now: does it look like it contains dates?  What is the dtype of the column?"
   ]
  },
  {
   "cell_type": "code",
   "execution_count": 3,
   "id": "c0f75b32",
   "metadata": {
    "execution": {
     "iopub.execute_input": "2022-02-11T17:35:05.710466Z",
     "iopub.status.busy": "2022-02-11T17:35:05.709727Z",
     "iopub.status.idle": "2022-02-11T17:35:05.716291Z",
     "shell.execute_reply": "2022-02-11T17:35:05.716781Z",
     "shell.execute_reply.started": "2022-02-11T15:58:52.905678Z"
    },
    "papermill": {
     "duration": 0.034173,
     "end_time": "2022-02-11T17:35:05.716948",
     "exception": false,
     "start_time": "2022-02-11T17:35:05.682775",
     "status": "completed"
    },
    "tags": []
   },
   "outputs": [
    {
     "data": {
      "text/plain": [
       "dtype('O')"
      ]
     },
     "execution_count": 3,
     "metadata": {},
     "output_type": "execute_result"
    }
   ],
   "source": [
    "# TODO: Your code here!\n",
    "earthquakes['Date'].head()\n",
    "earthquakes['Date'].dtype"
   ]
  },
  {
   "cell_type": "markdown",
   "id": "28f23d30",
   "metadata": {
    "papermill": {
     "duration": 0.023439,
     "end_time": "2022-02-11T17:35:05.764111",
     "exception": false,
     "start_time": "2022-02-11T17:35:05.740672",
     "status": "completed"
    },
    "tags": []
   },
   "source": [
    "Once you have answered the question above, run the code cell below to get credit for your work."
   ]
  },
  {
   "cell_type": "code",
   "execution_count": 4,
   "id": "c428b39e",
   "metadata": {
    "execution": {
     "iopub.execute_input": "2022-02-11T17:35:05.814948Z",
     "iopub.status.busy": "2022-02-11T17:35:05.814298Z",
     "iopub.status.idle": "2022-02-11T17:35:05.820986Z",
     "shell.execute_reply": "2022-02-11T17:35:05.820507Z",
     "shell.execute_reply.started": "2022-02-11T15:54:14.805592Z"
    },
    "papermill": {
     "duration": 0.033245,
     "end_time": "2022-02-11T17:35:05.821123",
     "exception": false,
     "start_time": "2022-02-11T17:35:05.787878",
     "status": "completed"
    },
    "tags": []
   },
   "outputs": [
    {
     "data": {
      "application/javascript": [
       "parent.postMessage({\"jupyterEvent\": \"custom.exercise_interaction\", \"data\": {\"outcomeType\": 1, \"valueTowardsCompletion\": 0.25, \"interactionType\": 1, \"questionType\": 4, \"questionId\": \"1_CheckDtype\", \"learnToolsVersion\": \"0.3.4\", \"failureMessage\": \"\", \"exceptionClass\": \"\", \"trace\": \"\"}}, \"*\")"
      ],
      "text/plain": [
       "<IPython.core.display.Javascript object>"
      ]
     },
     "metadata": {},
     "output_type": "display_data"
    },
    {
     "data": {
      "text/markdown": [
       "<span style=\"color:#33cc33\">Correct:</span> \n",
       "\n",
       "The \"Date\" column in the `earthquakes` DataFrame does have dates.  The dtype is \"object\"."
      ],
      "text/plain": [
       "Correct: \n",
       "\n",
       "The \"Date\" column in the `earthquakes` DataFrame does have dates.  The dtype is \"object\"."
      ]
     },
     "metadata": {},
     "output_type": "display_data"
    }
   ],
   "source": [
    "# Check your answer (Run this code cell to receive credit!)\n",
    "q1.check()"
   ]
  },
  {
   "cell_type": "code",
   "execution_count": 5,
   "id": "95592d86",
   "metadata": {
    "execution": {
     "iopub.execute_input": "2022-02-11T17:35:05.875946Z",
     "iopub.status.busy": "2022-02-11T17:35:05.875298Z",
     "iopub.status.idle": "2022-02-11T17:35:05.879982Z",
     "shell.execute_reply": "2022-02-11T17:35:05.880491Z",
     "shell.execute_reply.started": "2022-02-11T15:55:43.828590Z"
    },
    "papermill": {
     "duration": 0.034613,
     "end_time": "2022-02-11T17:35:05.880649",
     "exception": false,
     "start_time": "2022-02-11T17:35:05.846036",
     "status": "completed"
    },
    "tags": []
   },
   "outputs": [
    {
     "data": {
      "application/javascript": [
       "parent.postMessage({\"jupyterEvent\": \"custom.exercise_interaction\", \"data\": {\"interactionType\": 2, \"questionType\": 4, \"questionId\": \"1_CheckDtype\", \"learnToolsVersion\": \"0.3.4\", \"valueTowardsCompletion\": 0.0, \"failureMessage\": \"\", \"exceptionClass\": \"\", \"trace\": \"\", \"outcomeType\": 4}}, \"*\")"
      ],
      "text/plain": [
       "<IPython.core.display.Javascript object>"
      ]
     },
     "metadata": {},
     "output_type": "display_data"
    },
    {
     "data": {
      "text/markdown": [
       "<span style=\"color:#3366cc\">Hint:</span> Use `earthquakes['Date'].head()` to check that the column contains dates and verify that it has dtype \"object\".  You can also use `earthquakes['Date'].dtype` to verify the dtype."
      ],
      "text/plain": [
       "Hint: Use `earthquakes['Date'].head()` to check that the column contains dates and verify that it has dtype \"object\".  You can also use `earthquakes['Date'].dtype` to verify the dtype."
      ]
     },
     "metadata": {},
     "output_type": "display_data"
    }
   ],
   "source": [
    "# Line below will give you a hint\n",
    "q1.hint()"
   ]
  },
  {
   "cell_type": "markdown",
   "id": "14f7ab3b",
   "metadata": {
    "papermill": {
     "duration": 0.025358,
     "end_time": "2022-02-11T17:35:05.931537",
     "exception": false,
     "start_time": "2022-02-11T17:35:05.906179",
     "status": "completed"
    },
    "tags": []
   },
   "source": [
    "# 2) Convert our date columns to datetime\n",
    "\n",
    "Most of the entries in the \"Date\" column follow the same format: \"month/day/four-digit year\".  However, the entry at index 3378 follows a completely different pattern.  Run the code cell below to see this."
   ]
  },
  {
   "cell_type": "code",
   "execution_count": 6,
   "id": "c69c752a",
   "metadata": {
    "execution": {
     "iopub.execute_input": "2022-02-11T17:35:05.985690Z",
     "iopub.status.busy": "2022-02-11T17:35:05.985153Z",
     "iopub.status.idle": "2022-02-11T17:35:06.012631Z",
     "shell.execute_reply": "2022-02-11T17:35:06.013058Z",
     "shell.execute_reply.started": "2022-02-11T16:01:36.050515Z"
    },
    "papermill": {
     "duration": 0.055979,
     "end_time": "2022-02-11T17:35:06.013227",
     "exception": false,
     "start_time": "2022-02-11T17:35:05.957248",
     "status": "completed"
    },
    "tags": []
   },
   "outputs": [
    {
     "data": {
      "text/html": [
       "<div>\n",
       "<style scoped>\n",
       "    .dataframe tbody tr th:only-of-type {\n",
       "        vertical-align: middle;\n",
       "    }\n",
       "\n",
       "    .dataframe tbody tr th {\n",
       "        vertical-align: top;\n",
       "    }\n",
       "\n",
       "    .dataframe thead th {\n",
       "        text-align: right;\n",
       "    }\n",
       "</style>\n",
       "<table border=\"1\" class=\"dataframe\">\n",
       "  <thead>\n",
       "    <tr style=\"text-align: right;\">\n",
       "      <th></th>\n",
       "      <th>Date</th>\n",
       "      <th>Time</th>\n",
       "      <th>Latitude</th>\n",
       "      <th>Longitude</th>\n",
       "      <th>Type</th>\n",
       "      <th>Depth</th>\n",
       "      <th>Depth Error</th>\n",
       "      <th>Depth Seismic Stations</th>\n",
       "      <th>Magnitude</th>\n",
       "      <th>Magnitude Type</th>\n",
       "      <th>...</th>\n",
       "      <th>Magnitude Seismic Stations</th>\n",
       "      <th>Azimuthal Gap</th>\n",
       "      <th>Horizontal Distance</th>\n",
       "      <th>Horizontal Error</th>\n",
       "      <th>Root Mean Square</th>\n",
       "      <th>ID</th>\n",
       "      <th>Source</th>\n",
       "      <th>Location Source</th>\n",
       "      <th>Magnitude Source</th>\n",
       "      <th>Status</th>\n",
       "    </tr>\n",
       "  </thead>\n",
       "  <tbody>\n",
       "    <tr>\n",
       "      <th>3378</th>\n",
       "      <td>1975-02-23T02:58:41.000Z</td>\n",
       "      <td>1975-02-23T02:58:41.000Z</td>\n",
       "      <td>8.017</td>\n",
       "      <td>124.075</td>\n",
       "      <td>Earthquake</td>\n",
       "      <td>623.0</td>\n",
       "      <td>NaN</td>\n",
       "      <td>NaN</td>\n",
       "      <td>5.6</td>\n",
       "      <td>MB</td>\n",
       "      <td>...</td>\n",
       "      <td>NaN</td>\n",
       "      <td>NaN</td>\n",
       "      <td>NaN</td>\n",
       "      <td>NaN</td>\n",
       "      <td>NaN</td>\n",
       "      <td>USP0000A09</td>\n",
       "      <td>US</td>\n",
       "      <td>US</td>\n",
       "      <td>US</td>\n",
       "      <td>Reviewed</td>\n",
       "    </tr>\n",
       "    <tr>\n",
       "      <th>3379</th>\n",
       "      <td>02/23/1975</td>\n",
       "      <td>03:53:36</td>\n",
       "      <td>-21.727</td>\n",
       "      <td>-71.356</td>\n",
       "      <td>Earthquake</td>\n",
       "      <td>33.0</td>\n",
       "      <td>NaN</td>\n",
       "      <td>NaN</td>\n",
       "      <td>5.6</td>\n",
       "      <td>MB</td>\n",
       "      <td>...</td>\n",
       "      <td>NaN</td>\n",
       "      <td>NaN</td>\n",
       "      <td>NaN</td>\n",
       "      <td>NaN</td>\n",
       "      <td>NaN</td>\n",
       "      <td>USP0000A0A</td>\n",
       "      <td>US</td>\n",
       "      <td>US</td>\n",
       "      <td>US</td>\n",
       "      <td>Reviewed</td>\n",
       "    </tr>\n",
       "    <tr>\n",
       "      <th>3380</th>\n",
       "      <td>02/23/1975</td>\n",
       "      <td>07:34:11</td>\n",
       "      <td>-10.879</td>\n",
       "      <td>166.667</td>\n",
       "      <td>Earthquake</td>\n",
       "      <td>33.0</td>\n",
       "      <td>NaN</td>\n",
       "      <td>NaN</td>\n",
       "      <td>5.5</td>\n",
       "      <td>MS</td>\n",
       "      <td>...</td>\n",
       "      <td>NaN</td>\n",
       "      <td>NaN</td>\n",
       "      <td>NaN</td>\n",
       "      <td>NaN</td>\n",
       "      <td>NaN</td>\n",
       "      <td>USP0000A0C</td>\n",
       "      <td>US</td>\n",
       "      <td>US</td>\n",
       "      <td>US</td>\n",
       "      <td>Reviewed</td>\n",
       "    </tr>\n",
       "    <tr>\n",
       "      <th>3381</th>\n",
       "      <td>02/25/1975</td>\n",
       "      <td>05:20:05</td>\n",
       "      <td>-7.388</td>\n",
       "      <td>149.798</td>\n",
       "      <td>Earthquake</td>\n",
       "      <td>33.0</td>\n",
       "      <td>NaN</td>\n",
       "      <td>NaN</td>\n",
       "      <td>5.5</td>\n",
       "      <td>MB</td>\n",
       "      <td>...</td>\n",
       "      <td>NaN</td>\n",
       "      <td>NaN</td>\n",
       "      <td>NaN</td>\n",
       "      <td>NaN</td>\n",
       "      <td>NaN</td>\n",
       "      <td>USP0000A12</td>\n",
       "      <td>US</td>\n",
       "      <td>US</td>\n",
       "      <td>US</td>\n",
       "      <td>Reviewed</td>\n",
       "    </tr>\n",
       "    <tr>\n",
       "      <th>3382</th>\n",
       "      <td>02/26/1975</td>\n",
       "      <td>04:48:55</td>\n",
       "      <td>85.047</td>\n",
       "      <td>97.969</td>\n",
       "      <td>Earthquake</td>\n",
       "      <td>33.0</td>\n",
       "      <td>NaN</td>\n",
       "      <td>NaN</td>\n",
       "      <td>5.6</td>\n",
       "      <td>MS</td>\n",
       "      <td>...</td>\n",
       "      <td>NaN</td>\n",
       "      <td>NaN</td>\n",
       "      <td>NaN</td>\n",
       "      <td>NaN</td>\n",
       "      <td>NaN</td>\n",
       "      <td>USP0000A1H</td>\n",
       "      <td>US</td>\n",
       "      <td>US</td>\n",
       "      <td>US</td>\n",
       "      <td>Reviewed</td>\n",
       "    </tr>\n",
       "  </tbody>\n",
       "</table>\n",
       "<p>5 rows × 21 columns</p>\n",
       "</div>"
      ],
      "text/plain": [
       "                          Date                      Time  Latitude  Longitude  \\\n",
       "3378  1975-02-23T02:58:41.000Z  1975-02-23T02:58:41.000Z     8.017    124.075   \n",
       "3379                02/23/1975                  03:53:36   -21.727    -71.356   \n",
       "3380                02/23/1975                  07:34:11   -10.879    166.667   \n",
       "3381                02/25/1975                  05:20:05    -7.388    149.798   \n",
       "3382                02/26/1975                  04:48:55    85.047     97.969   \n",
       "\n",
       "            Type  Depth  Depth Error  Depth Seismic Stations  Magnitude  \\\n",
       "3378  Earthquake  623.0          NaN                     NaN        5.6   \n",
       "3379  Earthquake   33.0          NaN                     NaN        5.6   \n",
       "3380  Earthquake   33.0          NaN                     NaN        5.5   \n",
       "3381  Earthquake   33.0          NaN                     NaN        5.5   \n",
       "3382  Earthquake   33.0          NaN                     NaN        5.6   \n",
       "\n",
       "     Magnitude Type  ...  Magnitude Seismic Stations  Azimuthal Gap  \\\n",
       "3378             MB  ...                         NaN            NaN   \n",
       "3379             MB  ...                         NaN            NaN   \n",
       "3380             MS  ...                         NaN            NaN   \n",
       "3381             MB  ...                         NaN            NaN   \n",
       "3382             MS  ...                         NaN            NaN   \n",
       "\n",
       "      Horizontal Distance  Horizontal Error  Root Mean Square          ID  \\\n",
       "3378                  NaN               NaN               NaN  USP0000A09   \n",
       "3379                  NaN               NaN               NaN  USP0000A0A   \n",
       "3380                  NaN               NaN               NaN  USP0000A0C   \n",
       "3381                  NaN               NaN               NaN  USP0000A12   \n",
       "3382                  NaN               NaN               NaN  USP0000A1H   \n",
       "\n",
       "     Source Location Source Magnitude Source    Status  \n",
       "3378     US              US               US  Reviewed  \n",
       "3379     US              US               US  Reviewed  \n",
       "3380     US              US               US  Reviewed  \n",
       "3381     US              US               US  Reviewed  \n",
       "3382     US              US               US  Reviewed  \n",
       "\n",
       "[5 rows x 21 columns]"
      ]
     },
     "execution_count": 6,
     "metadata": {},
     "output_type": "execute_result"
    }
   ],
   "source": [
    "earthquakes[3378:3383]"
   ]
  },
  {
   "cell_type": "markdown",
   "id": "6ce920f8",
   "metadata": {
    "papermill": {
     "duration": 0.026774,
     "end_time": "2022-02-11T17:35:06.066304",
     "exception": false,
     "start_time": "2022-02-11T17:35:06.039530",
     "status": "completed"
    },
    "tags": []
   },
   "source": [
    "This does appear to be an issue with data entry: ideally, all entries in the column have the same format.  We can get an idea of how widespread this issue is by checking the length of each entry in the \"Date\" column."
   ]
  },
  {
   "cell_type": "code",
   "execution_count": 7,
   "id": "1f4bb11e",
   "metadata": {
    "execution": {
     "iopub.execute_input": "2022-02-11T17:35:06.123207Z",
     "iopub.status.busy": "2022-02-11T17:35:06.122590Z",
     "iopub.status.idle": "2022-02-11T17:35:06.139369Z",
     "shell.execute_reply": "2022-02-11T17:35:06.139788Z",
     "shell.execute_reply.started": "2022-02-11T16:18:34.796783Z"
    },
    "papermill": {
     "duration": 0.046706,
     "end_time": "2022-02-11T17:35:06.139956",
     "exception": false,
     "start_time": "2022-02-11T17:35:06.093250",
     "status": "completed"
    },
    "tags": []
   },
   "outputs": [
    {
     "data": {
      "text/plain": [
       "10    23409\n",
       "24        3\n",
       "Name: Date, dtype: int64"
      ]
     },
     "execution_count": 7,
     "metadata": {},
     "output_type": "execute_result"
    }
   ],
   "source": [
    "date_lengths = earthquakes.Date.str.len()\n",
    "date_lengths.value_counts()"
   ]
  },
  {
   "cell_type": "markdown",
   "id": "bd39eb20",
   "metadata": {
    "papermill": {
     "duration": 0.026287,
     "end_time": "2022-02-11T17:35:06.192839",
     "exception": false,
     "start_time": "2022-02-11T17:35:06.166552",
     "status": "completed"
    },
    "tags": []
   },
   "source": [
    "Looks like there are two more rows that has a date in a different format.  Run the code cell below to obtain the indices corresponding to those rows and print the data."
   ]
  },
  {
   "cell_type": "code",
   "execution_count": 8,
   "id": "b97a1e10",
   "metadata": {
    "execution": {
     "iopub.execute_input": "2022-02-11T17:35:06.250042Z",
     "iopub.status.busy": "2022-02-11T17:35:06.249396Z",
     "iopub.status.idle": "2022-02-11T17:35:06.275862Z",
     "shell.execute_reply": "2022-02-11T17:35:06.275346Z",
     "shell.execute_reply.started": "2022-02-11T16:20:49.665598Z"
    },
    "papermill": {
     "duration": 0.056752,
     "end_time": "2022-02-11T17:35:06.276021",
     "exception": false,
     "start_time": "2022-02-11T17:35:06.219269",
     "status": "completed"
    },
    "tags": []
   },
   "outputs": [
    {
     "name": "stdout",
     "output_type": "stream",
     "text": [
      "Indices with corrupted data: [ 3378  7512 20650]\n"
     ]
    },
    {
     "data": {
      "text/html": [
       "<div>\n",
       "<style scoped>\n",
       "    .dataframe tbody tr th:only-of-type {\n",
       "        vertical-align: middle;\n",
       "    }\n",
       "\n",
       "    .dataframe tbody tr th {\n",
       "        vertical-align: top;\n",
       "    }\n",
       "\n",
       "    .dataframe thead th {\n",
       "        text-align: right;\n",
       "    }\n",
       "</style>\n",
       "<table border=\"1\" class=\"dataframe\">\n",
       "  <thead>\n",
       "    <tr style=\"text-align: right;\">\n",
       "      <th></th>\n",
       "      <th>Date</th>\n",
       "      <th>Time</th>\n",
       "      <th>Latitude</th>\n",
       "      <th>Longitude</th>\n",
       "      <th>Type</th>\n",
       "      <th>Depth</th>\n",
       "      <th>Depth Error</th>\n",
       "      <th>Depth Seismic Stations</th>\n",
       "      <th>Magnitude</th>\n",
       "      <th>Magnitude Type</th>\n",
       "      <th>...</th>\n",
       "      <th>Magnitude Seismic Stations</th>\n",
       "      <th>Azimuthal Gap</th>\n",
       "      <th>Horizontal Distance</th>\n",
       "      <th>Horizontal Error</th>\n",
       "      <th>Root Mean Square</th>\n",
       "      <th>ID</th>\n",
       "      <th>Source</th>\n",
       "      <th>Location Source</th>\n",
       "      <th>Magnitude Source</th>\n",
       "      <th>Status</th>\n",
       "    </tr>\n",
       "  </thead>\n",
       "  <tbody>\n",
       "    <tr>\n",
       "      <th>3378</th>\n",
       "      <td>1975-02-23T02:58:41.000Z</td>\n",
       "      <td>1975-02-23T02:58:41.000Z</td>\n",
       "      <td>8.017</td>\n",
       "      <td>124.075</td>\n",
       "      <td>Earthquake</td>\n",
       "      <td>623.0</td>\n",
       "      <td>NaN</td>\n",
       "      <td>NaN</td>\n",
       "      <td>5.6</td>\n",
       "      <td>MB</td>\n",
       "      <td>...</td>\n",
       "      <td>NaN</td>\n",
       "      <td>NaN</td>\n",
       "      <td>NaN</td>\n",
       "      <td>NaN</td>\n",
       "      <td>NaN</td>\n",
       "      <td>USP0000A09</td>\n",
       "      <td>US</td>\n",
       "      <td>US</td>\n",
       "      <td>US</td>\n",
       "      <td>Reviewed</td>\n",
       "    </tr>\n",
       "    <tr>\n",
       "      <th>7512</th>\n",
       "      <td>1985-04-28T02:53:41.530Z</td>\n",
       "      <td>1985-04-28T02:53:41.530Z</td>\n",
       "      <td>-32.998</td>\n",
       "      <td>-71.766</td>\n",
       "      <td>Earthquake</td>\n",
       "      <td>33.0</td>\n",
       "      <td>NaN</td>\n",
       "      <td>NaN</td>\n",
       "      <td>5.6</td>\n",
       "      <td>MW</td>\n",
       "      <td>...</td>\n",
       "      <td>NaN</td>\n",
       "      <td>NaN</td>\n",
       "      <td>NaN</td>\n",
       "      <td>NaN</td>\n",
       "      <td>1.30</td>\n",
       "      <td>USP0002E81</td>\n",
       "      <td>US</td>\n",
       "      <td>US</td>\n",
       "      <td>HRV</td>\n",
       "      <td>Reviewed</td>\n",
       "    </tr>\n",
       "    <tr>\n",
       "      <th>20650</th>\n",
       "      <td>2011-03-13T02:23:34.520Z</td>\n",
       "      <td>2011-03-13T02:23:34.520Z</td>\n",
       "      <td>36.344</td>\n",
       "      <td>142.344</td>\n",
       "      <td>Earthquake</td>\n",
       "      <td>10.1</td>\n",
       "      <td>13.9</td>\n",
       "      <td>289.0</td>\n",
       "      <td>5.8</td>\n",
       "      <td>MWC</td>\n",
       "      <td>...</td>\n",
       "      <td>NaN</td>\n",
       "      <td>32.3</td>\n",
       "      <td>NaN</td>\n",
       "      <td>NaN</td>\n",
       "      <td>1.06</td>\n",
       "      <td>USP000HWQP</td>\n",
       "      <td>US</td>\n",
       "      <td>US</td>\n",
       "      <td>GCMT</td>\n",
       "      <td>Reviewed</td>\n",
       "    </tr>\n",
       "  </tbody>\n",
       "</table>\n",
       "<p>3 rows × 21 columns</p>\n",
       "</div>"
      ],
      "text/plain": [
       "                           Date                      Time  Latitude  \\\n",
       "3378   1975-02-23T02:58:41.000Z  1975-02-23T02:58:41.000Z     8.017   \n",
       "7512   1985-04-28T02:53:41.530Z  1985-04-28T02:53:41.530Z   -32.998   \n",
       "20650  2011-03-13T02:23:34.520Z  2011-03-13T02:23:34.520Z    36.344   \n",
       "\n",
       "       Longitude        Type  Depth  Depth Error  Depth Seismic Stations  \\\n",
       "3378     124.075  Earthquake  623.0          NaN                     NaN   \n",
       "7512     -71.766  Earthquake   33.0          NaN                     NaN   \n",
       "20650    142.344  Earthquake   10.1         13.9                   289.0   \n",
       "\n",
       "       Magnitude Magnitude Type  ...  Magnitude Seismic Stations  \\\n",
       "3378         5.6             MB  ...                         NaN   \n",
       "7512         5.6             MW  ...                         NaN   \n",
       "20650        5.8            MWC  ...                         NaN   \n",
       "\n",
       "       Azimuthal Gap  Horizontal Distance  Horizontal Error  Root Mean Square  \\\n",
       "3378             NaN                  NaN               NaN               NaN   \n",
       "7512             NaN                  NaN               NaN              1.30   \n",
       "20650           32.3                  NaN               NaN              1.06   \n",
       "\n",
       "               ID Source Location Source Magnitude Source    Status  \n",
       "3378   USP0000A09     US              US               US  Reviewed  \n",
       "7512   USP0002E81     US              US              HRV  Reviewed  \n",
       "20650  USP000HWQP     US              US             GCMT  Reviewed  \n",
       "\n",
       "[3 rows x 21 columns]"
      ]
     },
     "execution_count": 8,
     "metadata": {},
     "output_type": "execute_result"
    }
   ],
   "source": [
    "indices = np.where([date_lengths == 24])[1]\n",
    "print('Indices with corrupted data:', indices)\n",
    "earthquakes.loc[indices]"
   ]
  },
  {
   "cell_type": "markdown",
   "id": "071f73f1",
   "metadata": {
    "papermill": {
     "duration": 0.026863,
     "end_time": "2022-02-11T17:35:06.330628",
     "exception": false,
     "start_time": "2022-02-11T17:35:06.303765",
     "status": "completed"
    },
    "tags": []
   },
   "source": [
    "Given all of this information, it's your turn to create a new column \"date_parsed\" in the `earthquakes` dataset that has correctly parsed dates in it.  \n",
    "\n",
    "**Note**: When completing this problem, you are allowed to (but are not required to) amend the entries in the \"Date\" and \"Time\" columns.  Do not remove any rows from the dataset."
   ]
  },
  {
   "cell_type": "code",
   "execution_count": 9,
   "id": "dac9b11b",
   "metadata": {
    "execution": {
     "iopub.execute_input": "2022-02-11T17:35:06.391876Z",
     "iopub.status.busy": "2022-02-11T17:35:06.391318Z",
     "iopub.status.idle": "2022-02-11T17:35:06.439039Z",
     "shell.execute_reply": "2022-02-11T17:35:06.439542Z",
     "shell.execute_reply.started": "2022-02-11T16:38:16.045535Z"
    },
    "papermill": {
     "duration": 0.081382,
     "end_time": "2022-02-11T17:35:06.439724",
     "exception": false,
     "start_time": "2022-02-11T17:35:06.358342",
     "status": "completed"
    },
    "tags": []
   },
   "outputs": [
    {
     "data": {
      "application/javascript": [
       "parent.postMessage({\"jupyterEvent\": \"custom.exercise_interaction\", \"data\": {\"outcomeType\": 1, \"valueTowardsCompletion\": 0.25, \"interactionType\": 1, \"questionType\": 2, \"questionId\": \"2_ConvertToDatetime\", \"learnToolsVersion\": \"0.3.4\", \"failureMessage\": \"\", \"exceptionClass\": \"\", \"trace\": \"\"}}, \"*\")"
      ],
      "text/plain": [
       "<IPython.core.display.Javascript object>"
      ]
     },
     "metadata": {},
     "output_type": "display_data"
    },
    {
     "data": {
      "text/markdown": [
       "<span style=\"color:#33cc33\">Correct</span>"
      ],
      "text/plain": [
       "Correct"
      ]
     },
     "metadata": {},
     "output_type": "display_data"
    }
   ],
   "source": [
    "# TODO: Your code here\n",
    "earthquakes.loc[3378, \"Date\"] = \"02/23/1975\"\n",
    "earthquakes.loc[7512, \"Date\"] = \"04/28/1985\"\n",
    "earthquakes.loc[20650, \"Date\"] = \"03/13/2011\"\n",
    "earthquakes['date_parsed'] = pd.to_datetime(earthquakes['Date'], format=\"%m/%d/%Y\")\n",
    "# Check your answer\n",
    "q2.check()"
   ]
  },
  {
   "cell_type": "code",
   "execution_count": 10,
   "id": "2ea51791",
   "metadata": {
    "execution": {
     "iopub.execute_input": "2022-02-11T17:35:06.499664Z",
     "iopub.status.busy": "2022-02-11T17:35:06.499069Z",
     "iopub.status.idle": "2022-02-11T17:35:06.506757Z",
     "shell.execute_reply": "2022-02-11T17:35:06.507200Z",
     "shell.execute_reply.started": "2022-02-11T16:38:39.710453Z"
    },
    "papermill": {
     "duration": 0.039138,
     "end_time": "2022-02-11T17:35:06.507357",
     "exception": false,
     "start_time": "2022-02-11T17:35:06.468219",
     "status": "completed"
    },
    "tags": []
   },
   "outputs": [
    {
     "data": {
      "application/javascript": [
       "parent.postMessage({\"jupyterEvent\": \"custom.exercise_interaction\", \"data\": {\"interactionType\": 2, \"questionType\": 2, \"questionId\": \"2_ConvertToDatetime\", \"learnToolsVersion\": \"0.3.4\", \"valueTowardsCompletion\": 0.0, \"failureMessage\": \"\", \"exceptionClass\": \"\", \"trace\": \"\", \"outcomeType\": 4}}, \"*\")"
      ],
      "text/plain": [
       "<IPython.core.display.Javascript object>"
      ]
     },
     "metadata": {},
     "output_type": "display_data"
    },
    {
     "data": {
      "text/markdown": [
       "<span style=\"color:#3366cc\">Hint:</span> Since there are only three rows with a fancy type, you might consider manually editing them. For instance, you can begin by setting `earthquakes.loc[3378, \"Date\"] = \"02/23/1975\"`."
      ],
      "text/plain": [
       "Hint: Since there are only three rows with a fancy type, you might consider manually editing them. For instance, you can begin by setting `earthquakes.loc[3378, \"Date\"] = \"02/23/1975\"`."
      ]
     },
     "metadata": {},
     "output_type": "display_data"
    },
    {
     "data": {
      "application/javascript": [
       "parent.postMessage({\"jupyterEvent\": \"custom.exercise_interaction\", \"data\": {\"interactionType\": 3, \"questionType\": 2, \"questionId\": \"2_ConvertToDatetime\", \"learnToolsVersion\": \"0.3.4\", \"valueTowardsCompletion\": 0.0, \"failureMessage\": \"\", \"exceptionClass\": \"\", \"trace\": \"\", \"outcomeType\": 4}}, \"*\")"
      ],
      "text/plain": [
       "<IPython.core.display.Javascript object>"
      ]
     },
     "metadata": {},
     "output_type": "display_data"
    },
    {
     "data": {
      "text/markdown": [
       "<span style=\"color:#33cc99\">Solution:</span> \n",
       "```python\n",
       "\n",
       "earthquakes.loc[3378, \"Date\"] = \"02/23/1975\"\n",
       "earthquakes.loc[7512, \"Date\"] = \"04/28/1985\"\n",
       "earthquakes.loc[20650, \"Date\"] = \"03/13/2011\"\n",
       "earthquakes['date_parsed'] = pd.to_datetime(earthquakes['Date'], format=\"%m/%d/%Y\")\n",
       "\n",
       "```"
      ],
      "text/plain": [
       "Solution: \n",
       "```python\n",
       "\n",
       "earthquakes.loc[3378, \"Date\"] = \"02/23/1975\"\n",
       "earthquakes.loc[7512, \"Date\"] = \"04/28/1985\"\n",
       "earthquakes.loc[20650, \"Date\"] = \"03/13/2011\"\n",
       "earthquakes['date_parsed'] = pd.to_datetime(earthquakes['Date'], format=\"%m/%d/%Y\")\n",
       "\n",
       "```"
      ]
     },
     "metadata": {},
     "output_type": "display_data"
    }
   ],
   "source": [
    "# Lines below will give you a hint or solution code\n",
    "q2.hint()\n",
    "q2.solution()"
   ]
  },
  {
   "cell_type": "markdown",
   "id": "463129f6",
   "metadata": {
    "papermill": {
     "duration": 0.029624,
     "end_time": "2022-02-11T17:35:06.567421",
     "exception": false,
     "start_time": "2022-02-11T17:35:06.537797",
     "status": "completed"
    },
    "tags": []
   },
   "source": [
    "# 3) Select the day of the month\n",
    "\n",
    "Create a Pandas Series `day_of_month_earthquakes` containing the day of the month from the \"date_parsed\" column."
   ]
  },
  {
   "cell_type": "code",
   "execution_count": 11,
   "id": "6ecd2b38",
   "metadata": {
    "execution": {
     "iopub.execute_input": "2022-02-11T17:35:06.630815Z",
     "iopub.status.busy": "2022-02-11T17:35:06.630210Z",
     "iopub.status.idle": "2022-02-11T17:35:06.639612Z",
     "shell.execute_reply": "2022-02-11T17:35:06.639180Z",
     "shell.execute_reply.started": "2022-02-11T17:05:36.843191Z"
    },
    "papermill": {
     "duration": 0.042284,
     "end_time": "2022-02-11T17:35:06.639760",
     "exception": false,
     "start_time": "2022-02-11T17:35:06.597476",
     "status": "completed"
    },
    "tags": []
   },
   "outputs": [
    {
     "data": {
      "application/javascript": [
       "parent.postMessage({\"jupyterEvent\": \"custom.exercise_interaction\", \"data\": {\"outcomeType\": 1, \"valueTowardsCompletion\": 0.25, \"interactionType\": 1, \"questionType\": 1, \"questionId\": \"3_DayOfMonth\", \"learnToolsVersion\": \"0.3.4\", \"failureMessage\": \"\", \"exceptionClass\": \"\", \"trace\": \"\"}}, \"*\")"
      ],
      "text/plain": [
       "<IPython.core.display.Javascript object>"
      ]
     },
     "metadata": {},
     "output_type": "display_data"
    },
    {
     "data": {
      "text/markdown": [
       "<span style=\"color:#33cc33\">Correct</span>"
      ],
      "text/plain": [
       "Correct"
      ]
     },
     "metadata": {},
     "output_type": "display_data"
    }
   ],
   "source": [
    "# try to get the day of the month from the date column\n",
    "day_of_month_earthquakes = earthquakes['date_parsed'].dt.day\n",
    "day_of_month_earthquakes\n",
    "# Check your answer\n",
    "q3.check()"
   ]
  },
  {
   "cell_type": "code",
   "execution_count": 12,
   "id": "293f4d17",
   "metadata": {
    "execution": {
     "iopub.execute_input": "2022-02-11T17:35:06.704837Z",
     "iopub.status.busy": "2022-02-11T17:35:06.704251Z",
     "iopub.status.idle": "2022-02-11T17:35:06.709734Z",
     "shell.execute_reply": "2022-02-11T17:35:06.710240Z",
     "shell.execute_reply.started": "2022-02-11T17:03:24.212869Z"
    },
    "papermill": {
     "duration": 0.039727,
     "end_time": "2022-02-11T17:35:06.710402",
     "exception": false,
     "start_time": "2022-02-11T17:35:06.670675",
     "status": "completed"
    },
    "tags": []
   },
   "outputs": [
    {
     "data": {
      "application/javascript": [
       "parent.postMessage({\"jupyterEvent\": \"custom.exercise_interaction\", \"data\": {\"interactionType\": 3, \"questionType\": 1, \"questionId\": \"3_DayOfMonth\", \"learnToolsVersion\": \"0.3.4\", \"valueTowardsCompletion\": 0.0, \"failureMessage\": \"\", \"exceptionClass\": \"\", \"trace\": \"\", \"outcomeType\": 4}}, \"*\")"
      ],
      "text/plain": [
       "<IPython.core.display.Javascript object>"
      ]
     },
     "metadata": {},
     "output_type": "display_data"
    },
    {
     "data": {
      "text/markdown": [
       "<span style=\"color:#33cc99\">Solution:</span> \n",
       "```python\n",
       "day_of_month_earthquakes = earthquakes['date_parsed'].dt.day\n",
       "\n",
       "```"
      ],
      "text/plain": [
       "Solution: \n",
       "```python\n",
       "day_of_month_earthquakes = earthquakes['date_parsed'].dt.day\n",
       "\n",
       "```"
      ]
     },
     "metadata": {},
     "output_type": "display_data"
    }
   ],
   "source": [
    "# Lines below will give you a hint or solution code\n",
    "#q3.hint()\n",
    "q3.solution()"
   ]
  },
  {
   "cell_type": "markdown",
   "id": "1308d5e3",
   "metadata": {
    "papermill": {
     "duration": 0.031636,
     "end_time": "2022-02-11T17:35:06.776188",
     "exception": false,
     "start_time": "2022-02-11T17:35:06.744552",
     "status": "completed"
    },
    "tags": []
   },
   "source": [
    "# 4) Plot the day of the month to check the date parsing\n",
    "\n",
    "Plot the days of the month from your earthquake dataset."
   ]
  },
  {
   "cell_type": "code",
   "execution_count": 13,
   "id": "b26119c0",
   "metadata": {
    "execution": {
     "iopub.execute_input": "2022-02-11T17:35:06.843101Z",
     "iopub.status.busy": "2022-02-11T17:35:06.842468Z",
     "iopub.status.idle": "2022-02-11T17:35:07.138412Z",
     "shell.execute_reply": "2022-02-11T17:35:07.137688Z",
     "shell.execute_reply.started": "2022-02-11T17:12:18.348582Z"
    },
    "papermill": {
     "duration": 0.33027,
     "end_time": "2022-02-11T17:35:07.138568",
     "exception": false,
     "start_time": "2022-02-11T17:35:06.808298",
     "status": "completed"
    },
    "tags": []
   },
   "outputs": [
    {
     "data": {
      "text/plain": [
       "<AxesSubplot:xlabel='date_parsed', ylabel='Count'>"
      ]
     },
     "execution_count": 13,
     "metadata": {},
     "output_type": "execute_result"
    },
    {
     "data": {
      "image/png": "[encoded data removed]",
      "text/plain": [
       "<Figure size 432x288 with 1 Axes>"
      ]
     },
     "metadata": {
      "needs_background": "light"
     },
     "output_type": "display_data"
    }
   ],
   "source": [
    "# TODO: Your code here!\n",
    "day_of_month_earthquakes = day_of_month_earthquakes.dropna()\n",
    "sns.histplot(day_of_month_earthquakes,kde=False, bins=31)"
   ]
  },
  {
   "cell_type": "code",
   "execution_count": 14,
   "id": "3b972f38",
   "metadata": {
    "execution": {
     "iopub.execute_input": "2022-02-11T17:35:07.212273Z",
     "iopub.status.busy": "2022-02-11T17:35:07.211444Z",
     "iopub.status.idle": "2022-02-11T17:35:07.215414Z",
     "shell.execute_reply": "2022-02-11T17:35:07.214859Z",
     "shell.execute_reply.started": "2022-02-11T17:13:30.170053Z"
    },
    "papermill": {
     "duration": 0.042991,
     "end_time": "2022-02-11T17:35:07.215542",
     "exception": false,
     "start_time": "2022-02-11T17:35:07.172551",
     "status": "completed"
    },
    "tags": []
   },
   "outputs": [
    {
     "data": {
      "text/plain": [
       "0         2\n",
       "1         4\n",
       "2         5\n",
       "3         8\n",
       "4         9\n",
       "         ..\n",
       "23407    28\n",
       "23408    28\n",
       "23409    28\n",
       "23410    29\n",
       "23411    30\n",
       "Name: date_parsed, Length: 23412, dtype: int64"
      ]
     },
     "execution_count": 14,
     "metadata": {},
     "output_type": "execute_result"
    }
   ],
   "source": [
    "day_of_month_earthquakes"
   ]
  },
  {
   "cell_type": "markdown",
   "id": "cdaf772e",
   "metadata": {
    "papermill": {
     "duration": 0.033126,
     "end_time": "2022-02-11T17:35:07.281997",
     "exception": false,
     "start_time": "2022-02-11T17:35:07.248871",
     "status": "completed"
    },
    "tags": []
   },
   "source": [
    "Does the graph make sense to you?"
   ]
  },
  {
   "cell_type": "code",
   "execution_count": 15,
   "id": "0fca8048",
   "metadata": {
    "execution": {
     "iopub.execute_input": "2022-02-11T17:35:07.352635Z",
     "iopub.status.busy": "2022-02-11T17:35:07.352058Z",
     "iopub.status.idle": "2022-02-11T17:35:07.356602Z",
     "shell.execute_reply": "2022-02-11T17:35:07.356052Z",
     "shell.execute_reply.started": "2022-02-11T17:13:53.512072Z"
    },
    "papermill": {
     "duration": 0.041654,
     "end_time": "2022-02-11T17:35:07.356766",
     "exception": false,
     "start_time": "2022-02-11T17:35:07.315112",
     "status": "completed"
    },
    "tags": []
   },
   "outputs": [
    {
     "data": {
      "application/javascript": [
       "parent.postMessage({\"jupyterEvent\": \"custom.exercise_interaction\", \"data\": {\"outcomeType\": 1, \"valueTowardsCompletion\": 0.25, \"interactionType\": 1, \"questionType\": 4, \"questionId\": \"4_PlotDayOfMonth\", \"learnToolsVersion\": \"0.3.4\", \"failureMessage\": \"\", \"exceptionClass\": \"\", \"trace\": \"\"}}, \"*\")"
      ],
      "text/plain": [
       "<IPython.core.display.Javascript object>"
      ]
     },
     "metadata": {},
     "output_type": "display_data"
    },
    {
     "data": {
      "text/markdown": [
       "<span style=\"color:#33cc33\">Correct:</span> \n",
       "\n",
       "The graph should make sense: it shows a relatively even distribution in days of the month,which is what we would expect."
      ],
      "text/plain": [
       "Correct: \n",
       "\n",
       "The graph should make sense: it shows a relatively even distribution in days of the month,which is what we would expect."
      ]
     },
     "metadata": {},
     "output_type": "display_data"
    }
   ],
   "source": [
    "# Check your answer (Run this code cell to receive credit!)\n",
    "q4.check()"
   ]
  },
  {
   "cell_type": "code",
   "execution_count": 16,
   "id": "03796748",
   "metadata": {
    "execution": {
     "iopub.execute_input": "2022-02-11T17:35:07.430020Z",
     "iopub.status.busy": "2022-02-11T17:35:07.429287Z",
     "iopub.status.idle": "2022-02-11T17:35:07.433213Z",
     "shell.execute_reply": "2022-02-11T17:35:07.433684Z",
     "shell.execute_reply.started": "2022-02-11T17:14:00.787426Z"
    },
    "papermill": {
     "duration": 0.042854,
     "end_time": "2022-02-11T17:35:07.433875",
     "exception": false,
     "start_time": "2022-02-11T17:35:07.391021",
     "status": "completed"
    },
    "tags": []
   },
   "outputs": [
    {
     "data": {
      "application/javascript": [
       "parent.postMessage({\"jupyterEvent\": \"custom.exercise_interaction\", \"data\": {\"interactionType\": 2, \"questionType\": 4, \"questionId\": \"4_PlotDayOfMonth\", \"learnToolsVersion\": \"0.3.4\", \"valueTowardsCompletion\": 0.0, \"failureMessage\": \"\", \"exceptionClass\": \"\", \"trace\": \"\", \"outcomeType\": 4}}, \"*\")"
      ],
      "text/plain": [
       "<IPython.core.display.Javascript object>"
      ]
     },
     "metadata": {},
     "output_type": "display_data"
    },
    {
     "data": {
      "text/markdown": [
       "<span style=\"color:#3366cc\">Hint:</span> \n",
       "Remove the missing values, and then use `sns.distplot()` as follows:\n",
       "\n",
       "```python\n",
       "# remove na's\n",
       "day_of_month_earthquakes = day_of_month_earthquakes.dropna()\n",
       "\n",
       "# plot the day of the month\n",
       "sns.distplot(day_of_month_earthquakes, kde=False, bins=31)\n",
       "```\n",
       "\n"
      ],
      "text/plain": [
       "Hint: \n",
       "Remove the missing values, and then use `sns.distplot()` as follows:\n",
       "\n",
       "```python\n",
       "# remove na's\n",
       "day_of_month_earthquakes = day_of_month_earthquakes.dropna()\n",
       "\n",
       "# plot the day of the month\n",
       "sns.distplot(day_of_month_earthquakes, kde=False, bins=31)\n",
       "```\n"
      ]
     },
     "metadata": {},
     "output_type": "display_data"
    }
   ],
   "source": [
    "# Line below will give you a hint\n",
    "q4.hint()"
   ]
  },
  {
   "cell_type": "markdown",
   "id": "26b9559f",
   "metadata": {
    "papermill": {
     "duration": 0.034651,
     "end_time": "2022-02-11T17:35:07.503570",
     "exception": false,
     "start_time": "2022-02-11T17:35:07.468919",
     "status": "completed"
    },
    "tags": []
   },
   "source": [
    "# (Optional) Bonus Challenge\n",
    "\n",
    "For an extra challenge, you'll work with a [Smithsonian dataset](https://www.kaggle.com/smithsonian/volcanic-eruptions) that documents Earth's volcanoes and their eruptive history over the past 10,000 years \n",
    "\n",
    "Run the next code cell to load the data."
   ]
  },
  {
   "cell_type": "code",
   "execution_count": 17,
   "id": "09f91002",
   "metadata": {
    "execution": {
     "iopub.execute_input": "2022-02-11T17:35:07.577460Z",
     "iopub.status.busy": "2022-02-11T17:35:07.576878Z",
     "iopub.status.idle": "2022-02-11T17:35:07.601724Z",
     "shell.execute_reply": "2022-02-11T17:35:07.601139Z",
     "shell.execute_reply.started": "2022-02-11T17:14:20.597665Z"
    },
    "papermill": {
     "duration": 0.063503,
     "end_time": "2022-02-11T17:35:07.601886",
     "exception": false,
     "start_time": "2022-02-11T17:35:07.538383",
     "status": "completed"
    },
    "tags": []
   },
   "outputs": [],
   "source": [
    "volcanos = pd.read_csv(\"../input/volcanic-eruptions/database.csv\")"
   ]
  },
  {
   "cell_type": "markdown",
   "id": "fe8a07c2",
   "metadata": {
    "papermill": {
     "duration": 0.034819,
     "end_time": "2022-02-11T17:35:07.672783",
     "exception": false,
     "start_time": "2022-02-11T17:35:07.637964",
     "status": "completed"
    },
    "tags": []
   },
   "source": [
    "Try parsing the column \"Last Known Eruption\" from the `volcanos` dataframe. This column contains a mixture of text (\"Unknown\") and years both before the common era (BCE, also known as BC) and in the common era (CE, also known as AD)."
   ]
  },
  {
   "cell_type": "code",
   "execution_count": 18,
   "id": "f24dfcbc",
   "metadata": {
    "execution": {
     "iopub.execute_input": "2022-02-11T17:35:07.763554Z",
     "iopub.status.busy": "2022-02-11T17:35:07.762850Z",
     "iopub.status.idle": "2022-02-11T17:35:07.767012Z",
     "shell.execute_reply": "2022-02-11T17:35:07.767413Z",
     "shell.execute_reply.started": "2022-02-11T17:19:56.370834Z"
    },
    "papermill": {
     "duration": 0.059984,
     "end_time": "2022-02-11T17:35:07.767574",
     "exception": false,
     "start_time": "2022-02-11T17:35:07.707590",
     "status": "completed"
    },
    "tags": []
   },
   "outputs": [
    {
     "data": {
      "text/html": [
       "<div>\n",
       "<style scoped>\n",
       "    .dataframe tbody tr th:only-of-type {\n",
       "        vertical-align: middle;\n",
       "    }\n",
       "\n",
       "    .dataframe tbody tr th {\n",
       "        vertical-align: top;\n",
       "    }\n",
       "\n",
       "    .dataframe thead th {\n",
       "        text-align: right;\n",
       "    }\n",
       "</style>\n",
       "<table border=\"1\" class=\"dataframe\">\n",
       "  <thead>\n",
       "    <tr style=\"text-align: right;\">\n",
       "      <th></th>\n",
       "      <th>Number</th>\n",
       "      <th>Name</th>\n",
       "      <th>Country</th>\n",
       "      <th>Region</th>\n",
       "      <th>Type</th>\n",
       "      <th>Activity Evidence</th>\n",
       "      <th>Last Known Eruption</th>\n",
       "      <th>Latitude</th>\n",
       "      <th>Longitude</th>\n",
       "      <th>Elevation (Meters)</th>\n",
       "      <th>Dominant Rock Type</th>\n",
       "      <th>Tectonic Setting</th>\n",
       "    </tr>\n",
       "  </thead>\n",
       "  <tbody>\n",
       "    <tr>\n",
       "      <th>0</th>\n",
       "      <td>210010</td>\n",
       "      <td>West Eifel Volcanic Field</td>\n",
       "      <td>Germany</td>\n",
       "      <td>Mediterranean and Western Asia</td>\n",
       "      <td>Maar(s)</td>\n",
       "      <td>Eruption Dated</td>\n",
       "      <td>8300 BCE</td>\n",
       "      <td>50.170</td>\n",
       "      <td>6.850</td>\n",
       "      <td>600</td>\n",
       "      <td>Foidite</td>\n",
       "      <td>Rift Zone / Continental Crust (&gt;25 km)</td>\n",
       "    </tr>\n",
       "    <tr>\n",
       "      <th>1</th>\n",
       "      <td>210020</td>\n",
       "      <td>Chaine des Puys</td>\n",
       "      <td>France</td>\n",
       "      <td>Mediterranean and Western Asia</td>\n",
       "      <td>Lava dome(s)</td>\n",
       "      <td>Eruption Dated</td>\n",
       "      <td>4040 BCE</td>\n",
       "      <td>45.775</td>\n",
       "      <td>2.970</td>\n",
       "      <td>1464</td>\n",
       "      <td>Basalt / Picro-Basalt</td>\n",
       "      <td>Rift Zone / Continental Crust (&gt;25 km)</td>\n",
       "    </tr>\n",
       "    <tr>\n",
       "      <th>2</th>\n",
       "      <td>210030</td>\n",
       "      <td>Olot Volcanic Field</td>\n",
       "      <td>Spain</td>\n",
       "      <td>Mediterranean and Western Asia</td>\n",
       "      <td>Pyroclastic cone(s)</td>\n",
       "      <td>Evidence Credible</td>\n",
       "      <td>Unknown</td>\n",
       "      <td>42.170</td>\n",
       "      <td>2.530</td>\n",
       "      <td>893</td>\n",
       "      <td>Trachybasalt / Tephrite Basanite</td>\n",
       "      <td>Intraplate / Continental Crust (&gt;25 km)</td>\n",
       "    </tr>\n",
       "    <tr>\n",
       "      <th>3</th>\n",
       "      <td>210040</td>\n",
       "      <td>Calatrava Volcanic Field</td>\n",
       "      <td>Spain</td>\n",
       "      <td>Mediterranean and Western Asia</td>\n",
       "      <td>Pyroclastic cone(s)</td>\n",
       "      <td>Eruption Dated</td>\n",
       "      <td>3600 BCE</td>\n",
       "      <td>38.870</td>\n",
       "      <td>-4.020</td>\n",
       "      <td>1117</td>\n",
       "      <td>Basalt / Picro-Basalt</td>\n",
       "      <td>Intraplate / Continental Crust (&gt;25 km)</td>\n",
       "    </tr>\n",
       "    <tr>\n",
       "      <th>4</th>\n",
       "      <td>211001</td>\n",
       "      <td>Larderello</td>\n",
       "      <td>Italy</td>\n",
       "      <td>Mediterranean and Western Asia</td>\n",
       "      <td>Explosion crater(s)</td>\n",
       "      <td>Eruption Observed</td>\n",
       "      <td>1282 CE</td>\n",
       "      <td>43.250</td>\n",
       "      <td>10.870</td>\n",
       "      <td>500</td>\n",
       "      <td>No Data</td>\n",
       "      <td>Subduction Zone / Continental Crust (&gt;25 km)</td>\n",
       "    </tr>\n",
       "    <tr>\n",
       "      <th>...</th>\n",
       "      <td>...</td>\n",
       "      <td>...</td>\n",
       "      <td>...</td>\n",
       "      <td>...</td>\n",
       "      <td>...</td>\n",
       "      <td>...</td>\n",
       "      <td>...</td>\n",
       "      <td>...</td>\n",
       "      <td>...</td>\n",
       "      <td>...</td>\n",
       "      <td>...</td>\n",
       "      <td>...</td>\n",
       "    </tr>\n",
       "    <tr>\n",
       "      <th>1503</th>\n",
       "      <td>390130</td>\n",
       "      <td>Zavodovski</td>\n",
       "      <td>United Kingdom</td>\n",
       "      <td>Antarctica</td>\n",
       "      <td>Stratovolcano</td>\n",
       "      <td>Eruption Observed</td>\n",
       "      <td>2016 CE</td>\n",
       "      <td>-56.300</td>\n",
       "      <td>-27.570</td>\n",
       "      <td>551</td>\n",
       "      <td>Basalt / Picro-Basalt</td>\n",
       "      <td>Subduction Zone / Oceanic Crust (&lt; 15 km)</td>\n",
       "    </tr>\n",
       "    <tr>\n",
       "      <th>1504</th>\n",
       "      <td>390140</td>\n",
       "      <td>Protector Seamounts</td>\n",
       "      <td>United Kingdom</td>\n",
       "      <td>Antarctica</td>\n",
       "      <td>Submarine</td>\n",
       "      <td>Eruption Observed</td>\n",
       "      <td>1962 CE</td>\n",
       "      <td>-55.912</td>\n",
       "      <td>-28.167</td>\n",
       "      <td>-55</td>\n",
       "      <td>Rhyolite</td>\n",
       "      <td>Subduction Zone / Oceanic Crust (&lt; 15 km)</td>\n",
       "    </tr>\n",
       "    <tr>\n",
       "      <th>1505</th>\n",
       "      <td>390812</td>\n",
       "      <td>Rittmann, Mount</td>\n",
       "      <td>Antarctica</td>\n",
       "      <td>Antarctica</td>\n",
       "      <td>Shield</td>\n",
       "      <td>Unrest / Pleistocene</td>\n",
       "      <td>Unknown</td>\n",
       "      <td>-73.450</td>\n",
       "      <td>165.500</td>\n",
       "      <td>2600</td>\n",
       "      <td>NaN</td>\n",
       "      <td>Intraplate / Continental Crust (&gt;25 km)</td>\n",
       "    </tr>\n",
       "    <tr>\n",
       "      <th>1506</th>\n",
       "      <td>390829</td>\n",
       "      <td>James Ross Island</td>\n",
       "      <td>Antarctica</td>\n",
       "      <td>Antarctica</td>\n",
       "      <td>Shield</td>\n",
       "      <td>Evidence Credible</td>\n",
       "      <td>Unknown</td>\n",
       "      <td>-64.150</td>\n",
       "      <td>-57.750</td>\n",
       "      <td>1630</td>\n",
       "      <td>Basalt / Picro-Basalt</td>\n",
       "      <td>Intraplate / Continental Crust (&gt;25 km)</td>\n",
       "    </tr>\n",
       "    <tr>\n",
       "      <th>1507</th>\n",
       "      <td>390847</td>\n",
       "      <td>Melville</td>\n",
       "      <td>Antarctica</td>\n",
       "      <td>Antarctica</td>\n",
       "      <td>Stratovolcano</td>\n",
       "      <td>Evidence Uncertain</td>\n",
       "      <td>Unknown</td>\n",
       "      <td>-62.020</td>\n",
       "      <td>-57.670</td>\n",
       "      <td>549</td>\n",
       "      <td>NaN</td>\n",
       "      <td>Intraplate / Continental Crust (&gt;25 km)</td>\n",
       "    </tr>\n",
       "  </tbody>\n",
       "</table>\n",
       "<p>1508 rows × 12 columns</p>\n",
       "</div>"
      ],
      "text/plain": [
       "      Number                       Name         Country  \\\n",
       "0     210010  West Eifel Volcanic Field         Germany   \n",
       "1     210020            Chaine des Puys          France   \n",
       "2     210030        Olot Volcanic Field           Spain   \n",
       "3     210040   Calatrava Volcanic Field           Spain   \n",
       "4     211001                 Larderello           Italy   \n",
       "...      ...                        ...             ...   \n",
       "1503  390130                 Zavodovski  United Kingdom   \n",
       "1504  390140        Protector Seamounts  United Kingdom   \n",
       "1505  390812            Rittmann, Mount      Antarctica   \n",
       "1506  390829          James Ross Island      Antarctica   \n",
       "1507  390847                   Melville      Antarctica   \n",
       "\n",
       "                              Region                 Type  \\\n",
       "0     Mediterranean and Western Asia              Maar(s)   \n",
       "1     Mediterranean and Western Asia         Lava dome(s)   \n",
       "2     Mediterranean and Western Asia  Pyroclastic cone(s)   \n",
       "3     Mediterranean and Western Asia  Pyroclastic cone(s)   \n",
       "4     Mediterranean and Western Asia  Explosion crater(s)   \n",
       "...                              ...                  ...   \n",
       "1503                      Antarctica        Stratovolcano   \n",
       "1504                      Antarctica            Submarine   \n",
       "1505                      Antarctica               Shield   \n",
       "1506                      Antarctica               Shield   \n",
       "1507                      Antarctica        Stratovolcano   \n",
       "\n",
       "         Activity Evidence Last Known Eruption  Latitude  Longitude  \\\n",
       "0           Eruption Dated            8300 BCE    50.170      6.850   \n",
       "1           Eruption Dated            4040 BCE    45.775      2.970   \n",
       "2        Evidence Credible             Unknown    42.170      2.530   \n",
       "3           Eruption Dated            3600 BCE    38.870     -4.020   \n",
       "4        Eruption Observed             1282 CE    43.250     10.870   \n",
       "...                    ...                 ...       ...        ...   \n",
       "1503     Eruption Observed             2016 CE   -56.300    -27.570   \n",
       "1504     Eruption Observed             1962 CE   -55.912    -28.167   \n",
       "1505  Unrest / Pleistocene             Unknown   -73.450    165.500   \n",
       "1506     Evidence Credible             Unknown   -64.150    -57.750   \n",
       "1507    Evidence Uncertain             Unknown   -62.020    -57.670   \n",
       "\n",
       "      Elevation (Meters)                Dominant Rock Type  \\\n",
       "0                    600                           Foidite   \n",
       "1                   1464             Basalt / Picro-Basalt   \n",
       "2                    893  Trachybasalt / Tephrite Basanite   \n",
       "3                   1117             Basalt / Picro-Basalt   \n",
       "4                    500                           No Data   \n",
       "...                  ...                               ...   \n",
       "1503                 551             Basalt / Picro-Basalt   \n",
       "1504                 -55                          Rhyolite   \n",
       "1505                2600                               NaN   \n",
       "1506                1630             Basalt / Picro-Basalt   \n",
       "1507                 549                               NaN   \n",
       "\n",
       "                                  Tectonic Setting  \n",
       "0           Rift Zone / Continental Crust (>25 km)  \n",
       "1           Rift Zone / Continental Crust (>25 km)  \n",
       "2          Intraplate / Continental Crust (>25 km)  \n",
       "3          Intraplate / Continental Crust (>25 km)  \n",
       "4     Subduction Zone / Continental Crust (>25 km)  \n",
       "...                                            ...  \n",
       "1503     Subduction Zone / Oceanic Crust (< 15 km)  \n",
       "1504     Subduction Zone / Oceanic Crust (< 15 km)  \n",
       "1505       Intraplate / Continental Crust (>25 km)  \n",
       "1506       Intraplate / Continental Crust (>25 km)  \n",
       "1507       Intraplate / Continental Crust (>25 km)  \n",
       "\n",
       "[1508 rows x 12 columns]"
      ]
     },
     "execution_count": 18,
     "metadata": {},
     "output_type": "execute_result"
    }
   ],
   "source": [
    "volcanos"
   ]
  },
  {
   "cell_type": "code",
   "execution_count": 19,
   "id": "b133ed9c",
   "metadata": {
    "execution": {
     "iopub.execute_input": "2022-02-11T17:35:07.858856Z",
     "iopub.status.busy": "2022-02-11T17:35:07.858211Z",
     "iopub.status.idle": "2022-02-11T17:35:07.864450Z",
     "shell.execute_reply": "2022-02-11T17:35:07.864915Z",
     "shell.execute_reply.started": "2022-02-11T17:25:19.100005Z"
    },
    "papermill": {
     "duration": 0.061695,
     "end_time": "2022-02-11T17:35:07.865112",
     "exception": false,
     "start_time": "2022-02-11T17:35:07.803417",
     "status": "completed"
    },
    "tags": []
   },
   "outputs": [
    {
     "data": {
      "text/html": [
       "<div>\n",
       "<style scoped>\n",
       "    .dataframe tbody tr th:only-of-type {\n",
       "        vertical-align: middle;\n",
       "    }\n",
       "\n",
       "    .dataframe tbody tr th {\n",
       "        vertical-align: top;\n",
       "    }\n",
       "\n",
       "    .dataframe thead th {\n",
       "        text-align: right;\n",
       "    }\n",
       "</style>\n",
       "<table border=\"1\" class=\"dataframe\">\n",
       "  <thead>\n",
       "    <tr style=\"text-align: right;\">\n",
       "      <th></th>\n",
       "      <th>Number</th>\n",
       "      <th>Name</th>\n",
       "      <th>Country</th>\n",
       "      <th>Region</th>\n",
       "      <th>Type</th>\n",
       "      <th>Activity Evidence</th>\n",
       "      <th>LastKnownEruption</th>\n",
       "      <th>Latitude</th>\n",
       "      <th>Longitude</th>\n",
       "      <th>Elevation (Meters)</th>\n",
       "      <th>Dominant Rock Type</th>\n",
       "      <th>Tectonic Setting</th>\n",
       "    </tr>\n",
       "  </thead>\n",
       "  <tbody>\n",
       "    <tr>\n",
       "      <th>0</th>\n",
       "      <td>210010</td>\n",
       "      <td>West Eifel Volcanic Field</td>\n",
       "      <td>Germany</td>\n",
       "      <td>Mediterranean and Western Asia</td>\n",
       "      <td>Maar(s)</td>\n",
       "      <td>Eruption Dated</td>\n",
       "      <td>8300 BCE</td>\n",
       "      <td>50.170</td>\n",
       "      <td>6.850</td>\n",
       "      <td>600</td>\n",
       "      <td>Foidite</td>\n",
       "      <td>Rift Zone / Continental Crust (&gt;25 km)</td>\n",
       "    </tr>\n",
       "    <tr>\n",
       "      <th>1</th>\n",
       "      <td>210020</td>\n",
       "      <td>Chaine des Puys</td>\n",
       "      <td>France</td>\n",
       "      <td>Mediterranean and Western Asia</td>\n",
       "      <td>Lava dome(s)</td>\n",
       "      <td>Eruption Dated</td>\n",
       "      <td>4040 BCE</td>\n",
       "      <td>45.775</td>\n",
       "      <td>2.970</td>\n",
       "      <td>1464</td>\n",
       "      <td>Basalt / Picro-Basalt</td>\n",
       "      <td>Rift Zone / Continental Crust (&gt;25 km)</td>\n",
       "    </tr>\n",
       "    <tr>\n",
       "      <th>2</th>\n",
       "      <td>210030</td>\n",
       "      <td>Olot Volcanic Field</td>\n",
       "      <td>Spain</td>\n",
       "      <td>Mediterranean and Western Asia</td>\n",
       "      <td>Pyroclastic cone(s)</td>\n",
       "      <td>Evidence Credible</td>\n",
       "      <td>Unknown</td>\n",
       "      <td>42.170</td>\n",
       "      <td>2.530</td>\n",
       "      <td>893</td>\n",
       "      <td>Trachybasalt / Tephrite Basanite</td>\n",
       "      <td>Intraplate / Continental Crust (&gt;25 km)</td>\n",
       "    </tr>\n",
       "    <tr>\n",
       "      <th>3</th>\n",
       "      <td>210040</td>\n",
       "      <td>Calatrava Volcanic Field</td>\n",
       "      <td>Spain</td>\n",
       "      <td>Mediterranean and Western Asia</td>\n",
       "      <td>Pyroclastic cone(s)</td>\n",
       "      <td>Eruption Dated</td>\n",
       "      <td>3600 BCE</td>\n",
       "      <td>38.870</td>\n",
       "      <td>-4.020</td>\n",
       "      <td>1117</td>\n",
       "      <td>Basalt / Picro-Basalt</td>\n",
       "      <td>Intraplate / Continental Crust (&gt;25 km)</td>\n",
       "    </tr>\n",
       "    <tr>\n",
       "      <th>4</th>\n",
       "      <td>211001</td>\n",
       "      <td>Larderello</td>\n",
       "      <td>Italy</td>\n",
       "      <td>Mediterranean and Western Asia</td>\n",
       "      <td>Explosion crater(s)</td>\n",
       "      <td>Eruption Observed</td>\n",
       "      <td>1282 CE</td>\n",
       "      <td>43.250</td>\n",
       "      <td>10.870</td>\n",
       "      <td>500</td>\n",
       "      <td>No Data</td>\n",
       "      <td>Subduction Zone / Continental Crust (&gt;25 km)</td>\n",
       "    </tr>\n",
       "    <tr>\n",
       "      <th>...</th>\n",
       "      <td>...</td>\n",
       "      <td>...</td>\n",
       "      <td>...</td>\n",
       "      <td>...</td>\n",
       "      <td>...</td>\n",
       "      <td>...</td>\n",
       "      <td>...</td>\n",
       "      <td>...</td>\n",
       "      <td>...</td>\n",
       "      <td>...</td>\n",
       "      <td>...</td>\n",
       "      <td>...</td>\n",
       "    </tr>\n",
       "    <tr>\n",
       "      <th>1503</th>\n",
       "      <td>390130</td>\n",
       "      <td>Zavodovski</td>\n",
       "      <td>United Kingdom</td>\n",
       "      <td>Antarctica</td>\n",
       "      <td>Stratovolcano</td>\n",
       "      <td>Eruption Observed</td>\n",
       "      <td>2016 CE</td>\n",
       "      <td>-56.300</td>\n",
       "      <td>-27.570</td>\n",
       "      <td>551</td>\n",
       "      <td>Basalt / Picro-Basalt</td>\n",
       "      <td>Subduction Zone / Oceanic Crust (&lt; 15 km)</td>\n",
       "    </tr>\n",
       "    <tr>\n",
       "      <th>1504</th>\n",
       "      <td>390140</td>\n",
       "      <td>Protector Seamounts</td>\n",
       "      <td>United Kingdom</td>\n",
       "      <td>Antarctica</td>\n",
       "      <td>Submarine</td>\n",
       "      <td>Eruption Observed</td>\n",
       "      <td>1962 CE</td>\n",
       "      <td>-55.912</td>\n",
       "      <td>-28.167</td>\n",
       "      <td>-55</td>\n",
       "      <td>Rhyolite</td>\n",
       "      <td>Subduction Zone / Oceanic Crust (&lt; 15 km)</td>\n",
       "    </tr>\n",
       "    <tr>\n",
       "      <th>1505</th>\n",
       "      <td>390812</td>\n",
       "      <td>Rittmann, Mount</td>\n",
       "      <td>Antarctica</td>\n",
       "      <td>Antarctica</td>\n",
       "      <td>Shield</td>\n",
       "      <td>Unrest / Pleistocene</td>\n",
       "      <td>Unknown</td>\n",
       "      <td>-73.450</td>\n",
       "      <td>165.500</td>\n",
       "      <td>2600</td>\n",
       "      <td>NaN</td>\n",
       "      <td>Intraplate / Continental Crust (&gt;25 km)</td>\n",
       "    </tr>\n",
       "    <tr>\n",
       "      <th>1506</th>\n",
       "      <td>390829</td>\n",
       "      <td>James Ross Island</td>\n",
       "      <td>Antarctica</td>\n",
       "      <td>Antarctica</td>\n",
       "      <td>Shield</td>\n",
       "      <td>Evidence Credible</td>\n",
       "      <td>Unknown</td>\n",
       "      <td>-64.150</td>\n",
       "      <td>-57.750</td>\n",
       "      <td>1630</td>\n",
       "      <td>Basalt / Picro-Basalt</td>\n",
       "      <td>Intraplate / Continental Crust (&gt;25 km)</td>\n",
       "    </tr>\n",
       "    <tr>\n",
       "      <th>1507</th>\n",
       "      <td>390847</td>\n",
       "      <td>Melville</td>\n",
       "      <td>Antarctica</td>\n",
       "      <td>Antarctica</td>\n",
       "      <td>Stratovolcano</td>\n",
       "      <td>Evidence Uncertain</td>\n",
       "      <td>Unknown</td>\n",
       "      <td>-62.020</td>\n",
       "      <td>-57.670</td>\n",
       "      <td>549</td>\n",
       "      <td>NaN</td>\n",
       "      <td>Intraplate / Continental Crust (&gt;25 km)</td>\n",
       "    </tr>\n",
       "  </tbody>\n",
       "</table>\n",
       "<p>1508 rows × 12 columns</p>\n",
       "</div>"
      ],
      "text/plain": [
       "      Number                       Name         Country  \\\n",
       "0     210010  West Eifel Volcanic Field         Germany   \n",
       "1     210020            Chaine des Puys          France   \n",
       "2     210030        Olot Volcanic Field           Spain   \n",
       "3     210040   Calatrava Volcanic Field           Spain   \n",
       "4     211001                 Larderello           Italy   \n",
       "...      ...                        ...             ...   \n",
       "1503  390130                 Zavodovski  United Kingdom   \n",
       "1504  390140        Protector Seamounts  United Kingdom   \n",
       "1505  390812            Rittmann, Mount      Antarctica   \n",
       "1506  390829          James Ross Island      Antarctica   \n",
       "1507  390847                   Melville      Antarctica   \n",
       "\n",
       "                              Region                 Type  \\\n",
       "0     Mediterranean and Western Asia              Maar(s)   \n",
       "1     Mediterranean and Western Asia         Lava dome(s)   \n",
       "2     Mediterranean and Western Asia  Pyroclastic cone(s)   \n",
       "3     Mediterranean and Western Asia  Pyroclastic cone(s)   \n",
       "4     Mediterranean and Western Asia  Explosion crater(s)   \n",
       "...                              ...                  ...   \n",
       "1503                      Antarctica        Stratovolcano   \n",
       "1504                      Antarctica            Submarine   \n",
       "1505                      Antarctica               Shield   \n",
       "1506                      Antarctica               Shield   \n",
       "1507                      Antarctica        Stratovolcano   \n",
       "\n",
       "         Activity Evidence LastKnownEruption  Latitude  Longitude  \\\n",
       "0           Eruption Dated          8300 BCE    50.170      6.850   \n",
       "1           Eruption Dated          4040 BCE    45.775      2.970   \n",
       "2        Evidence Credible           Unknown    42.170      2.530   \n",
       "3           Eruption Dated          3600 BCE    38.870     -4.020   \n",
       "4        Eruption Observed           1282 CE    43.250     10.870   \n",
       "...                    ...               ...       ...        ...   \n",
       "1503     Eruption Observed           2016 CE   -56.300    -27.570   \n",
       "1504     Eruption Observed           1962 CE   -55.912    -28.167   \n",
       "1505  Unrest / Pleistocene           Unknown   -73.450    165.500   \n",
       "1506     Evidence Credible           Unknown   -64.150    -57.750   \n",
       "1507    Evidence Uncertain           Unknown   -62.020    -57.670   \n",
       "\n",
       "      Elevation (Meters)                Dominant Rock Type  \\\n",
       "0                    600                           Foidite   \n",
       "1                   1464             Basalt / Picro-Basalt   \n",
       "2                    893  Trachybasalt / Tephrite Basanite   \n",
       "3                   1117             Basalt / Picro-Basalt   \n",
       "4                    500                           No Data   \n",
       "...                  ...                               ...   \n",
       "1503                 551             Basalt / Picro-Basalt   \n",
       "1504                 -55                          Rhyolite   \n",
       "1505                2600                               NaN   \n",
       "1506                1630             Basalt / Picro-Basalt   \n",
       "1507                 549                               NaN   \n",
       "\n",
       "                                  Tectonic Setting  \n",
       "0           Rift Zone / Continental Crust (>25 km)  \n",
       "1           Rift Zone / Continental Crust (>25 km)  \n",
       "2          Intraplate / Continental Crust (>25 km)  \n",
       "3          Intraplate / Continental Crust (>25 km)  \n",
       "4     Subduction Zone / Continental Crust (>25 km)  \n",
       "...                                            ...  \n",
       "1503     Subduction Zone / Oceanic Crust (< 15 km)  \n",
       "1504     Subduction Zone / Oceanic Crust (< 15 km)  \n",
       "1505       Intraplate / Continental Crust (>25 km)  \n",
       "1506       Intraplate / Continental Crust (>25 km)  \n",
       "1507       Intraplate / Continental Crust (>25 km)  \n",
       "\n",
       "[1508 rows x 12 columns]"
      ]
     },
     "execution_count": 19,
     "metadata": {},
     "output_type": "execute_result"
    }
   ],
   "source": [
    "volcanos.rename(columns = {'Last Known Eruption':'LastKnownEruption'}, inplace = True)\n",
    "volcanos"
   ]
  },
  {
   "cell_type": "code",
   "execution_count": 20,
   "id": "e0b5b1c2",
   "metadata": {
    "execution": {
     "iopub.execute_input": "2022-02-11T17:35:07.948112Z",
     "iopub.status.busy": "2022-02-11T17:35:07.947410Z",
     "iopub.status.idle": "2022-02-11T17:35:07.951006Z",
     "shell.execute_reply": "2022-02-11T17:35:07.950538Z",
     "shell.execute_reply.started": "2022-02-11T17:25:40.264058Z"
    },
    "papermill": {
     "duration": 0.04762,
     "end_time": "2022-02-11T17:35:07.951145",
     "exception": false,
     "start_time": "2022-02-11T17:35:07.903525",
     "status": "completed"
    },
    "tags": []
   },
   "outputs": [
    {
     "data": {
      "text/plain": [
       "7    1312\n",
       "8     129\n",
       "6      62\n",
       "5       3\n",
       "9       1\n",
       "4       1\n",
       "Name: LastKnownEruption, dtype: int64"
      ]
     },
     "execution_count": 20,
     "metadata": {},
     "output_type": "execute_result"
    }
   ],
   "source": [
    "LastKnownEruption_lengths = volcanos.LastKnownEruption.str.len()\n",
    "LastKnownEruption_lengths.value_counts()"
   ]
  },
  {
   "cell_type": "code",
   "execution_count": 21,
   "id": "63fac81a",
   "metadata": {
    "execution": {
     "iopub.execute_input": "2022-02-11T17:35:08.028256Z",
     "iopub.status.busy": "2022-02-11T17:35:08.027607Z",
     "iopub.status.idle": "2022-02-11T17:35:08.049312Z",
     "shell.execute_reply": "2022-02-11T17:35:08.049774Z",
     "shell.execute_reply.started": "2022-02-11T17:33:25.714703Z"
    },
    "papermill": {
     "duration": 0.061763,
     "end_time": "2022-02-11T17:35:08.049949",
     "exception": false,
     "start_time": "2022-02-11T17:35:07.988186",
     "status": "completed"
    },
    "tags": []
   },
   "outputs": [
    {
     "name": "stdout",
     "output_type": "stream",
     "text": [
      "Indices with corrupted data: [   2    4    5 ... 1505 1506 1507]\n"
     ]
    },
    {
     "data": {
      "text/html": [
       "<div>\n",
       "<style scoped>\n",
       "    .dataframe tbody tr th:only-of-type {\n",
       "        vertical-align: middle;\n",
       "    }\n",
       "\n",
       "    .dataframe tbody tr th {\n",
       "        vertical-align: top;\n",
       "    }\n",
       "\n",
       "    .dataframe thead th {\n",
       "        text-align: right;\n",
       "    }\n",
       "</style>\n",
       "<table border=\"1\" class=\"dataframe\">\n",
       "  <thead>\n",
       "    <tr style=\"text-align: right;\">\n",
       "      <th></th>\n",
       "      <th>Number</th>\n",
       "      <th>Name</th>\n",
       "      <th>Country</th>\n",
       "      <th>Region</th>\n",
       "      <th>Type</th>\n",
       "      <th>Activity Evidence</th>\n",
       "      <th>LastKnownEruption</th>\n",
       "      <th>Latitude</th>\n",
       "      <th>Longitude</th>\n",
       "      <th>Elevation (Meters)</th>\n",
       "      <th>Dominant Rock Type</th>\n",
       "      <th>Tectonic Setting</th>\n",
       "    </tr>\n",
       "  </thead>\n",
       "  <tbody>\n",
       "    <tr>\n",
       "      <th>2</th>\n",
       "      <td>210030</td>\n",
       "      <td>Olot Volcanic Field</td>\n",
       "      <td>Spain</td>\n",
       "      <td>Mediterranean and Western Asia</td>\n",
       "      <td>Pyroclastic cone(s)</td>\n",
       "      <td>Evidence Credible</td>\n",
       "      <td>Unknown</td>\n",
       "      <td>42.170</td>\n",
       "      <td>2.530</td>\n",
       "      <td>893</td>\n",
       "      <td>Trachybasalt / Tephrite Basanite</td>\n",
       "      <td>Intraplate / Continental Crust (&gt;25 km)</td>\n",
       "    </tr>\n",
       "    <tr>\n",
       "      <th>4</th>\n",
       "      <td>211001</td>\n",
       "      <td>Larderello</td>\n",
       "      <td>Italy</td>\n",
       "      <td>Mediterranean and Western Asia</td>\n",
       "      <td>Explosion crater(s)</td>\n",
       "      <td>Eruption Observed</td>\n",
       "      <td>1282 CE</td>\n",
       "      <td>43.250</td>\n",
       "      <td>10.870</td>\n",
       "      <td>500</td>\n",
       "      <td>No Data</td>\n",
       "      <td>Subduction Zone / Continental Crust (&gt;25 km)</td>\n",
       "    </tr>\n",
       "    <tr>\n",
       "      <th>5</th>\n",
       "      <td>211003</td>\n",
       "      <td>Vulsini</td>\n",
       "      <td>Italy</td>\n",
       "      <td>Mediterranean and Western Asia</td>\n",
       "      <td>Caldera</td>\n",
       "      <td>Eruption Observed</td>\n",
       "      <td>104 BCE</td>\n",
       "      <td>42.600</td>\n",
       "      <td>11.930</td>\n",
       "      <td>800</td>\n",
       "      <td>Trachyte / Trachydacite</td>\n",
       "      <td>Subduction Zone / Continental Crust (&gt;25 km)</td>\n",
       "    </tr>\n",
       "    <tr>\n",
       "      <th>6</th>\n",
       "      <td>211004</td>\n",
       "      <td>Colli Alban</td>\n",
       "      <td>Italy</td>\n",
       "      <td>Mediterranean and Western Asia</td>\n",
       "      <td>Caldera</td>\n",
       "      <td>Evidence Uncertain</td>\n",
       "      <td>Unknown</td>\n",
       "      <td>41.730</td>\n",
       "      <td>12.700</td>\n",
       "      <td>949</td>\n",
       "      <td>Foidite</td>\n",
       "      <td>Subduction Zone / Continental Crust (&gt;25 km)</td>\n",
       "    </tr>\n",
       "    <tr>\n",
       "      <th>7</th>\n",
       "      <td>211010</td>\n",
       "      <td>Campi Flegrei</td>\n",
       "      <td>Italy</td>\n",
       "      <td>Mediterranean and Western Asia</td>\n",
       "      <td>Caldera</td>\n",
       "      <td>Eruption Observed</td>\n",
       "      <td>1538 CE</td>\n",
       "      <td>40.827</td>\n",
       "      <td>14.139</td>\n",
       "      <td>458</td>\n",
       "      <td>Trachyte / Trachydacite</td>\n",
       "      <td>Subduction Zone / Continental Crust (&gt;25 km)</td>\n",
       "    </tr>\n",
       "    <tr>\n",
       "      <th>...</th>\n",
       "      <td>...</td>\n",
       "      <td>...</td>\n",
       "      <td>...</td>\n",
       "      <td>...</td>\n",
       "      <td>...</td>\n",
       "      <td>...</td>\n",
       "      <td>...</td>\n",
       "      <td>...</td>\n",
       "      <td>...</td>\n",
       "      <td>...</td>\n",
       "      <td>...</td>\n",
       "      <td>...</td>\n",
       "    </tr>\n",
       "    <tr>\n",
       "      <th>1503</th>\n",
       "      <td>390130</td>\n",
       "      <td>Zavodovski</td>\n",
       "      <td>United Kingdom</td>\n",
       "      <td>Antarctica</td>\n",
       "      <td>Stratovolcano</td>\n",
       "      <td>Eruption Observed</td>\n",
       "      <td>2016 CE</td>\n",
       "      <td>-56.300</td>\n",
       "      <td>-27.570</td>\n",
       "      <td>551</td>\n",
       "      <td>Basalt / Picro-Basalt</td>\n",
       "      <td>Subduction Zone / Oceanic Crust (&lt; 15 km)</td>\n",
       "    </tr>\n",
       "    <tr>\n",
       "      <th>1504</th>\n",
       "      <td>390140</td>\n",
       "      <td>Protector Seamounts</td>\n",
       "      <td>United Kingdom</td>\n",
       "      <td>Antarctica</td>\n",
       "      <td>Submarine</td>\n",
       "      <td>Eruption Observed</td>\n",
       "      <td>1962 CE</td>\n",
       "      <td>-55.912</td>\n",
       "      <td>-28.167</td>\n",
       "      <td>-55</td>\n",
       "      <td>Rhyolite</td>\n",
       "      <td>Subduction Zone / Oceanic Crust (&lt; 15 km)</td>\n",
       "    </tr>\n",
       "    <tr>\n",
       "      <th>1505</th>\n",
       "      <td>390812</td>\n",
       "      <td>Rittmann, Mount</td>\n",
       "      <td>Antarctica</td>\n",
       "      <td>Antarctica</td>\n",
       "      <td>Shield</td>\n",
       "      <td>Unrest / Pleistocene</td>\n",
       "      <td>Unknown</td>\n",
       "      <td>-73.450</td>\n",
       "      <td>165.500</td>\n",
       "      <td>2600</td>\n",
       "      <td>NaN</td>\n",
       "      <td>Intraplate / Continental Crust (&gt;25 km)</td>\n",
       "    </tr>\n",
       "    <tr>\n",
       "      <th>1506</th>\n",
       "      <td>390829</td>\n",
       "      <td>James Ross Island</td>\n",
       "      <td>Antarctica</td>\n",
       "      <td>Antarctica</td>\n",
       "      <td>Shield</td>\n",
       "      <td>Evidence Credible</td>\n",
       "      <td>Unknown</td>\n",
       "      <td>-64.150</td>\n",
       "      <td>-57.750</td>\n",
       "      <td>1630</td>\n",
       "      <td>Basalt / Picro-Basalt</td>\n",
       "      <td>Intraplate / Continental Crust (&gt;25 km)</td>\n",
       "    </tr>\n",
       "    <tr>\n",
       "      <th>1507</th>\n",
       "      <td>390847</td>\n",
       "      <td>Melville</td>\n",
       "      <td>Antarctica</td>\n",
       "      <td>Antarctica</td>\n",
       "      <td>Stratovolcano</td>\n",
       "      <td>Evidence Uncertain</td>\n",
       "      <td>Unknown</td>\n",
       "      <td>-62.020</td>\n",
       "      <td>-57.670</td>\n",
       "      <td>549</td>\n",
       "      <td>NaN</td>\n",
       "      <td>Intraplate / Continental Crust (&gt;25 km)</td>\n",
       "    </tr>\n",
       "  </tbody>\n",
       "</table>\n",
       "<p>1312 rows × 12 columns</p>\n",
       "</div>"
      ],
      "text/plain": [
       "      Number                 Name         Country  \\\n",
       "2     210030  Olot Volcanic Field           Spain   \n",
       "4     211001           Larderello           Italy   \n",
       "5     211003              Vulsini           Italy   \n",
       "6     211004          Colli Alban           Italy   \n",
       "7     211010        Campi Flegrei           Italy   \n",
       "...      ...                  ...             ...   \n",
       "1503  390130           Zavodovski  United Kingdom   \n",
       "1504  390140  Protector Seamounts  United Kingdom   \n",
       "1505  390812      Rittmann, Mount      Antarctica   \n",
       "1506  390829    James Ross Island      Antarctica   \n",
       "1507  390847             Melville      Antarctica   \n",
       "\n",
       "                              Region                 Type  \\\n",
       "2     Mediterranean and Western Asia  Pyroclastic cone(s)   \n",
       "4     Mediterranean and Western Asia  Explosion crater(s)   \n",
       "5     Mediterranean and Western Asia              Caldera   \n",
       "6     Mediterranean and Western Asia              Caldera   \n",
       "7     Mediterranean and Western Asia              Caldera   \n",
       "...                              ...                  ...   \n",
       "1503                      Antarctica        Stratovolcano   \n",
       "1504                      Antarctica            Submarine   \n",
       "1505                      Antarctica               Shield   \n",
       "1506                      Antarctica               Shield   \n",
       "1507                      Antarctica        Stratovolcano   \n",
       "\n",
       "         Activity Evidence LastKnownEruption  Latitude  Longitude  \\\n",
       "2        Evidence Credible           Unknown    42.170      2.530   \n",
       "4        Eruption Observed           1282 CE    43.250     10.870   \n",
       "5        Eruption Observed           104 BCE    42.600     11.930   \n",
       "6       Evidence Uncertain           Unknown    41.730     12.700   \n",
       "7        Eruption Observed           1538 CE    40.827     14.139   \n",
       "...                    ...               ...       ...        ...   \n",
       "1503     Eruption Observed           2016 CE   -56.300    -27.570   \n",
       "1504     Eruption Observed           1962 CE   -55.912    -28.167   \n",
       "1505  Unrest / Pleistocene           Unknown   -73.450    165.500   \n",
       "1506     Evidence Credible           Unknown   -64.150    -57.750   \n",
       "1507    Evidence Uncertain           Unknown   -62.020    -57.670   \n",
       "\n",
       "      Elevation (Meters)                Dominant Rock Type  \\\n",
       "2                    893  Trachybasalt / Tephrite Basanite   \n",
       "4                    500                           No Data   \n",
       "5                    800           Trachyte / Trachydacite   \n",
       "6                    949                           Foidite   \n",
       "7                    458           Trachyte / Trachydacite   \n",
       "...                  ...                               ...   \n",
       "1503                 551             Basalt / Picro-Basalt   \n",
       "1504                 -55                          Rhyolite   \n",
       "1505                2600                               NaN   \n",
       "1506                1630             Basalt / Picro-Basalt   \n",
       "1507                 549                               NaN   \n",
       "\n",
       "                                  Tectonic Setting  \n",
       "2          Intraplate / Continental Crust (>25 km)  \n",
       "4     Subduction Zone / Continental Crust (>25 km)  \n",
       "5     Subduction Zone / Continental Crust (>25 km)  \n",
       "6     Subduction Zone / Continental Crust (>25 km)  \n",
       "7     Subduction Zone / Continental Crust (>25 km)  \n",
       "...                                            ...  \n",
       "1503     Subduction Zone / Oceanic Crust (< 15 km)  \n",
       "1504     Subduction Zone / Oceanic Crust (< 15 km)  \n",
       "1505       Intraplate / Continental Crust (>25 km)  \n",
       "1506       Intraplate / Continental Crust (>25 km)  \n",
       "1507       Intraplate / Continental Crust (>25 km)  \n",
       "\n",
       "[1312 rows x 12 columns]"
      ]
     },
     "execution_count": 21,
     "metadata": {},
     "output_type": "execute_result"
    }
   ],
   "source": [
    "indices = np.where([LastKnownEruption_lengths == 7])[1]\n",
    "print('Indices with corrupted data:', indices)\n",
    "volcanos.loc[indices]"
   ]
  },
  {
   "cell_type": "markdown",
   "id": "6dcebe72",
   "metadata": {
    "papermill": {
     "duration": 0.039044,
     "end_time": "2022-02-11T17:35:08.126664",
     "exception": false,
     "start_time": "2022-02-11T17:35:08.087620",
     "status": "completed"
    },
    "tags": []
   },
   "source": [
    "# (Optional) More practice\n",
    "\n",
    "If you're interested in graphing time series, [check out this tutorial](https://www.kaggle.com/residentmario/time-series-plotting-optional).\n",
    "\n",
    "You can also look into passing columns that you know have dates in them  the `parse_dates` argument in `read_csv`. (The documention [is here](https://pandas.pydata.org/pandas-docs/stable/generated/pandas.read_csv.html).) Do note that this method can be very slow, but depending on your needs it may sometimes be handy to use.\n",
    "\n",
    "# Keep going\n",
    "\n",
    "In the next lesson, learn how to [**work with character encodings**](https://www.kaggle.com/alexisbcook/character-encodings)."
   ]
  },
  {
   "cell_type": "markdown",
   "id": "70fb2750",
   "metadata": {
    "papermill": {
     "duration": 0.037719,
     "end_time": "2022-02-11T17:35:08.202926",
     "exception": false,
     "start_time": "2022-02-11T17:35:08.165207",
     "status": "completed"
    },
    "tags": []
   },
   "source": [
    "---\n",
    "\n",
    "\n",
    "\n",
    "\n",
    "*Have questions or comments? Visit the [course discussion forum](https://www.kaggle.com/learn/data-cleaning/discussion) to chat with other learners.*"
   ]
  }
 ],
 "metadata": {
  "kernelspec": {
   "display_name": "Python 3",
   "language": "python",
   "name": "python3"
  },
  "language_info": {
   "codemirror_mode": {
    "name": "ipython",
    "version": 3
   },
   "file_extension": ".py",
   "mimetype": "text/x-python",
   "name": "python",
   "nbconvert_exporter": "python",
   "pygments_lexer": "ipython3",
   "version": "3.7.12"
  },
  "papermill": {
   "default_parameters": {},
   "duration": 13.604675,
   "end_time": "2022-02-11T17:35:08.951553",
   "environment_variables": {},
   "exception": null,
   "input_path": "__notebook__.ipynb",
   "output_path": "__notebook__.ipynb",
   "parameters": {},
   "start_time": "2022-02-11T17:34:55.346878",
   "version": "2.3.3"
  }
 },
 "nbformat": 4,
 "nbformat_minor": 5
}
