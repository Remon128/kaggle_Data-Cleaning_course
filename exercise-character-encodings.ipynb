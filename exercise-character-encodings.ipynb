{
 "cells": [
  {
   "cell_type": "markdown",
   "id": "77df43ec",
   "metadata": {
    "papermill": {
     "duration": 0.023062,
     "end_time": "2022-02-11T18:27:42.854114",
     "exception": false,
     "start_time": "2022-02-11T18:27:42.831052",
     "status": "completed"
    },
    "tags": []
   },
   "source": [
    "**This notebook is an exercise in the [Data Cleaning](https://www.kaggle.com/learn/data-cleaning) course.  You can reference the tutorial at [this link](https://www.kaggle.com/alexisbcook/character-encodings).**\n",
    "\n",
    "---\n"
   ]
  },
  {
   "cell_type": "markdown",
   "id": "8a6d122c",
   "metadata": {
    "papermill": {
     "duration": 0.021384,
     "end_time": "2022-02-11T18:27:42.897757",
     "exception": false,
     "start_time": "2022-02-11T18:27:42.876373",
     "status": "completed"
    },
    "tags": []
   },
   "source": [
    "In this exercise, you'll apply what you learned in the **Character encodings** tutorial.\n",
    "\n",
    "# Setup\n",
    "\n",
    "The questions below will give you feedback on your work. Run the following cell to set up the feedback system."
   ]
  },
  {
   "cell_type": "code",
   "execution_count": 1,
   "id": "334df1dd",
   "metadata": {
    "execution": {
     "iopub.execute_input": "2022-02-11T18:27:42.946132Z",
     "iopub.status.busy": "2022-02-11T18:27:42.944949Z",
     "iopub.status.idle": "2022-02-11T18:27:43.036163Z",
     "shell.execute_reply": "2022-02-11T18:27:43.036711Z",
     "shell.execute_reply.started": "2022-02-11T18:08:50.867524Z"
    },
    "papermill": {
     "duration": 0.116939,
     "end_time": "2022-02-11T18:27:43.036996",
     "exception": false,
     "start_time": "2022-02-11T18:27:42.920057",
     "status": "completed"
    },
    "tags": []
   },
   "outputs": [
    {
     "name": "stdout",
     "output_type": "stream",
     "text": [
      "Setup Complete\n"
     ]
    }
   ],
   "source": [
    "from learntools.core import binder\n",
    "binder.bind(globals())\n",
    "from learntools.data_cleaning.ex4 import *\n",
    "print(\"Setup Complete\")"
   ]
  },
  {
   "cell_type": "markdown",
   "id": "df6ad91f",
   "metadata": {
    "papermill": {
     "duration": 0.022775,
     "end_time": "2022-02-11T18:27:43.082800",
     "exception": false,
     "start_time": "2022-02-11T18:27:43.060025",
     "status": "completed"
    },
    "tags": []
   },
   "source": [
    "# Get our environment set up\n",
    "\n",
    "The first thing we'll need to do is load in the libraries we'll be using."
   ]
  },
  {
   "cell_type": "code",
   "execution_count": 2,
   "id": "9f9f3c1b",
   "metadata": {
    "execution": {
     "iopub.execute_input": "2022-02-11T18:27:43.131730Z",
     "iopub.status.busy": "2022-02-11T18:27:43.131019Z",
     "iopub.status.idle": "2022-02-11T18:27:43.134703Z",
     "shell.execute_reply": "2022-02-11T18:27:43.135239Z",
     "shell.execute_reply.started": "2022-02-11T18:08:53.130636Z"
    },
    "papermill": {
     "duration": 0.030005,
     "end_time": "2022-02-11T18:27:43.135412",
     "exception": false,
     "start_time": "2022-02-11T18:27:43.105407",
     "status": "completed"
    },
    "tags": []
   },
   "outputs": [],
   "source": [
    "# modules we'll use\n",
    "import pandas as pd\n",
    "import numpy as np\n",
    "\n",
    "# helpful character encoding module\n",
    "import chardet\n",
    "\n",
    "# set seed for reproducibility\n",
    "np.random.seed(0)"
   ]
  },
  {
   "cell_type": "markdown",
   "id": "db4741d2",
   "metadata": {
    "papermill": {
     "duration": 0.021818,
     "end_time": "2022-02-11T18:27:43.179644",
     "exception": false,
     "start_time": "2022-02-11T18:27:43.157826",
     "status": "completed"
    },
    "tags": []
   },
   "source": [
    "# 1) What are encodings?\n",
    "\n",
    "You're working with a dataset composed of bytes.  Run the code cell below to print a sample entry."
   ]
  },
  {
   "cell_type": "code",
   "execution_count": 3,
   "id": "b1767412",
   "metadata": {
    "execution": {
     "iopub.execute_input": "2022-02-11T18:27:43.227945Z",
     "iopub.status.busy": "2022-02-11T18:27:43.227327Z",
     "iopub.status.idle": "2022-02-11T18:27:43.234091Z",
     "shell.execute_reply": "2022-02-11T18:27:43.234653Z",
     "shell.execute_reply.started": "2022-02-11T18:08:54.145472Z"
    },
    "papermill": {
     "duration": 0.032125,
     "end_time": "2022-02-11T18:27:43.234840",
     "exception": false,
     "start_time": "2022-02-11T18:27:43.202715",
     "status": "completed"
    },
    "tags": []
   },
   "outputs": [
    {
     "name": "stdout",
     "output_type": "stream",
     "text": [
      "b'\\xa7A\\xa6n'\n",
      "data type: <class 'bytes'>\n"
     ]
    }
   ],
   "source": [
    "sample_entry = b'\\xa7A\\xa6n'\n",
    "print(sample_entry)\n",
    "print('data type:', type(sample_entry))"
   ]
  },
  {
   "cell_type": "markdown",
   "id": "a553cc02",
   "metadata": {
    "papermill": {
     "duration": 0.014738,
     "end_time": "2022-02-11T18:27:43.265577",
     "exception": false,
     "start_time": "2022-02-11T18:27:43.250839",
     "status": "completed"
    },
    "tags": []
   },
   "source": [
    "You notice that it doesn't use the standard UTF-8 encoding. \n",
    "\n",
    "Use the next code cell to create a variable `new_entry` that changes the encoding from `\"big5-tw\"` to `\"utf-8\"`.  `new_entry` should have the bytes datatype."
   ]
  },
  {
   "cell_type": "code",
   "execution_count": 4,
   "id": "ee871418",
   "metadata": {
    "execution": {
     "iopub.execute_input": "2022-02-11T18:27:43.304001Z",
     "iopub.status.busy": "2022-02-11T18:27:43.303252Z",
     "iopub.status.idle": "2022-02-11T18:27:43.307642Z",
     "shell.execute_reply": "2022-02-11T18:27:43.308043Z",
     "shell.execute_reply.started": "2022-02-11T18:09:30.525261Z"
    },
    "papermill": {
     "duration": 0.027571,
     "end_time": "2022-02-11T18:27:43.308180",
     "exception": false,
     "start_time": "2022-02-11T18:27:43.280609",
     "status": "completed"
    },
    "tags": []
   },
   "outputs": [
    {
     "data": {
      "application/javascript": [
       "parent.postMessage({\"jupyterEvent\": \"custom.exercise_interaction\", \"data\": {\"outcomeType\": 1, \"valueTowardsCompletion\": 0.3333333333333333, \"interactionType\": 1, \"questionType\": 1, \"questionId\": \"1_EncodingsIntro\", \"learnToolsVersion\": \"0.3.4\", \"failureMessage\": \"\", \"exceptionClass\": \"\", \"trace\": \"\"}}, \"*\")"
      ],
      "text/plain": [
       "<IPython.core.display.Javascript object>"
      ]
     },
     "metadata": {},
     "output_type": "display_data"
    },
    {
     "data": {
      "text/markdown": [
       "<span style=\"color:#33cc33\">Correct</span>"
      ],
      "text/plain": [
       "Correct"
      ]
     },
     "metadata": {},
     "output_type": "display_data"
    }
   ],
   "source": [
    "before = sample_entry.decode('big5-tw')\n",
    "new_entry = before.encode('utf-8')\n",
    "\n",
    "# Check your answer\n",
    "q1.check()"
   ]
  },
  {
   "cell_type": "code",
   "execution_count": 5,
   "id": "627cd204",
   "metadata": {
    "execution": {
     "iopub.execute_input": "2022-02-11T18:27:43.344275Z",
     "iopub.status.busy": "2022-02-11T18:27:43.343574Z",
     "iopub.status.idle": "2022-02-11T18:27:43.349266Z",
     "shell.execute_reply": "2022-02-11T18:27:43.349770Z",
     "shell.execute_reply.started": "2022-02-11T18:09:32.905997Z"
    },
    "papermill": {
     "duration": 0.025231,
     "end_time": "2022-02-11T18:27:43.349905",
     "exception": false,
     "start_time": "2022-02-11T18:27:43.324674",
     "status": "completed"
    },
    "tags": []
   },
   "outputs": [
    {
     "data": {
      "application/javascript": [
       "parent.postMessage({\"jupyterEvent\": \"custom.exercise_interaction\", \"data\": {\"interactionType\": 3, \"questionType\": 1, \"questionId\": \"1_EncodingsIntro\", \"learnToolsVersion\": \"0.3.4\", \"valueTowardsCompletion\": 0.0, \"failureMessage\": \"\", \"exceptionClass\": \"\", \"trace\": \"\", \"outcomeType\": 4}}, \"*\")"
      ],
      "text/plain": [
       "<IPython.core.display.Javascript object>"
      ]
     },
     "metadata": {},
     "output_type": "display_data"
    },
    {
     "data": {
      "text/markdown": [
       "<span style=\"color:#33cc99\">Solution:</span> \n",
       "```python\n",
       "before = sample_entry.decode(\"big5-tw\")\n",
       "new_entry = before.encode()\n",
       "\n",
       "```"
      ],
      "text/plain": [
       "Solution: \n",
       "```python\n",
       "before = sample_entry.decode(\"big5-tw\")\n",
       "new_entry = before.encode()\n",
       "\n",
       "```"
      ]
     },
     "metadata": {},
     "output_type": "display_data"
    }
   ],
   "source": [
    "# Lines below will give you a hint or solution code\n",
    "#q1.hint()\n",
    "q1.solution()"
   ]
  },
  {
   "cell_type": "markdown",
   "id": "7290863f",
   "metadata": {
    "papermill": {
     "duration": 0.017043,
     "end_time": "2022-02-11T18:27:43.384704",
     "exception": false,
     "start_time": "2022-02-11T18:27:43.367661",
     "status": "completed"
    },
    "tags": []
   },
   "source": [
    "# 2) Reading in files with encoding problems\n",
    "\n",
    "Use the code cell below to read in this file at path `\"../input/fatal-police-shootings-in-the-us/PoliceKillingsUS.csv\"`.  \n",
    "\n",
    "Figure out what the correct encoding should be and read in the file to a DataFrame `police_killings`."
   ]
  },
  {
   "cell_type": "code",
   "execution_count": 6,
   "id": "0666c4ae",
   "metadata": {
    "execution": {
     "iopub.execute_input": "2022-02-11T18:27:43.423897Z",
     "iopub.status.busy": "2022-02-11T18:27:43.423166Z",
     "iopub.status.idle": "2022-02-11T18:27:43.442853Z",
     "shell.execute_reply": "2022-02-11T18:27:43.443300Z",
     "shell.execute_reply.started": "2022-02-11T18:25:56.939977Z"
    },
    "papermill": {
     "duration": 0.041561,
     "end_time": "2022-02-11T18:27:43.443456",
     "exception": false,
     "start_time": "2022-02-11T18:27:43.401895",
     "status": "completed"
    },
    "tags": []
   },
   "outputs": [
    {
     "data": {
      "application/javascript": [
       "parent.postMessage({\"jupyterEvent\": \"custom.exercise_interaction\", \"data\": {\"outcomeType\": 1, \"valueTowardsCompletion\": 0.3333333333333333, \"interactionType\": 1, \"questionType\": 1, \"questionId\": \"2_ReadIn\", \"learnToolsVersion\": \"0.3.4\", \"failureMessage\": \"\", \"exceptionClass\": \"\", \"trace\": \"\"}}, \"*\")"
      ],
      "text/plain": [
       "<IPython.core.display.Javascript object>"
      ]
     },
     "metadata": {},
     "output_type": "display_data"
    },
    {
     "data": {
      "text/markdown": [
       "<span style=\"color:#33cc33\">Correct</span>"
      ],
      "text/plain": [
       "Correct"
      ]
     },
     "metadata": {},
     "output_type": "display_data"
    }
   ],
   "source": [
    "# TODO: Load in the DataFrame correctly.\n",
    "police_killings = pd.read_csv(\"../input/fatal-police-shootings-in-the-us/PoliceKillingsUS.csv\",encoding=\"Windows-1252\")\n",
    "\n",
    "# Check your answer\n",
    "q2.check()"
   ]
  },
  {
   "cell_type": "markdown",
   "id": "6ed9e554",
   "metadata": {
    "papermill": {
     "duration": 0.018367,
     "end_time": "2022-02-11T18:27:43.480664",
     "exception": false,
     "start_time": "2022-02-11T18:27:43.462297",
     "status": "completed"
    },
    "tags": []
   },
   "source": [
    "Feel free to use any additional code cells for supplemental work.  To get credit for finishing this question, you'll need to run `q2.check()` and get a result of **Correct**."
   ]
  },
  {
   "cell_type": "code",
   "execution_count": 7,
   "id": "1b8fae48",
   "metadata": {
    "execution": {
     "iopub.execute_input": "2022-02-11T18:27:43.523007Z",
     "iopub.status.busy": "2022-02-11T18:27:43.522457Z",
     "iopub.status.idle": "2022-02-11T18:27:46.269683Z",
     "shell.execute_reply": "2022-02-11T18:27:46.270125Z",
     "shell.execute_reply.started": "2022-02-11T18:25:28.910373Z"
    },
    "papermill": {
     "duration": 2.771247,
     "end_time": "2022-02-11T18:27:46.270289",
     "exception": false,
     "start_time": "2022-02-11T18:27:43.499042",
     "status": "completed"
    },
    "tags": []
   },
   "outputs": [
    {
     "name": "stdout",
     "output_type": "stream",
     "text": [
      "{'encoding': 'Windows-1252', 'confidence': 0.73, 'language': ''}\n"
     ]
    }
   ],
   "source": [
    "# (Optional) Use this code cell for any additional work.\n",
    "with open(\"../input/fatal-police-shootings-in-the-us/PoliceKillingsUS.csv\", 'rb') as rawdata:\n",
    "    result = chardet.detect(rawdata.read(1000000))\n",
    "\n",
    "# check what the character encoding might be\n",
    "print(result)"
   ]
  },
  {
   "cell_type": "code",
   "execution_count": 8,
   "id": "f9679b07",
   "metadata": {
    "execution": {
     "iopub.execute_input": "2022-02-11T18:27:46.312795Z",
     "iopub.status.busy": "2022-02-11T18:27:46.312079Z",
     "iopub.status.idle": "2022-02-11T18:27:46.322868Z",
     "shell.execute_reply": "2022-02-11T18:27:46.323305Z",
     "shell.execute_reply.started": "2022-02-11T18:26:01.021557Z"
    },
    "papermill": {
     "duration": 0.033488,
     "end_time": "2022-02-11T18:27:46.323454",
     "exception": false,
     "start_time": "2022-02-11T18:27:46.289966",
     "status": "completed"
    },
    "tags": []
   },
   "outputs": [
    {
     "data": {
      "application/javascript": [
       "parent.postMessage({\"jupyterEvent\": \"custom.exercise_interaction\", \"data\": {\"interactionType\": 2, \"questionType\": 1, \"questionId\": \"2_ReadIn\", \"learnToolsVersion\": \"0.3.4\", \"valueTowardsCompletion\": 0.0, \"failureMessage\": \"\", \"exceptionClass\": \"\", \"trace\": \"\", \"outcomeType\": 4}}, \"*\")"
      ],
      "text/plain": [
       "<IPython.core.display.Javascript object>"
      ]
     },
     "metadata": {},
     "output_type": "display_data"
    },
    {
     "data": {
      "text/markdown": [
       "<span style=\"color:#3366cc\">Hint:</span> If you try to guess the encoding with the first 10,000 bytes of the file, it might give you the wrong answer.  Try using 100,000 or more lines of the file."
      ],
      "text/plain": [
       "Hint: If you try to guess the encoding with the first 10,000 bytes of the file, it might give you the wrong answer.  Try using 100,000 or more lines of the file."
      ]
     },
     "metadata": {},
     "output_type": "display_data"
    },
    {
     "data": {
      "application/javascript": [
       "parent.postMessage({\"jupyterEvent\": \"custom.exercise_interaction\", \"data\": {\"interactionType\": 3, \"questionType\": 1, \"questionId\": \"2_ReadIn\", \"learnToolsVersion\": \"0.3.4\", \"valueTowardsCompletion\": 0.0, \"failureMessage\": \"\", \"exceptionClass\": \"\", \"trace\": \"\", \"outcomeType\": 4}}, \"*\")"
      ],
      "text/plain": [
       "<IPython.core.display.Javascript object>"
      ]
     },
     "metadata": {},
     "output_type": "display_data"
    },
    {
     "data": {
      "text/markdown": [
       "<span style=\"color:#33cc99\">Solution:</span> \n",
       "```python\n",
       "police_killings = pd.read_csv(\"../input/fatal-police-shootings-in-the-us/PoliceKillingsUS.csv\", encoding='Windows-1252')\n",
       "\n",
       "```"
      ],
      "text/plain": [
       "Solution: \n",
       "```python\n",
       "police_killings = pd.read_csv(\"../input/fatal-police-shootings-in-the-us/PoliceKillingsUS.csv\", encoding='Windows-1252')\n",
       "\n",
       "```"
      ]
     },
     "metadata": {},
     "output_type": "display_data"
    }
   ],
   "source": [
    "# Lines below will give you a hint or solution code\n",
    "q2.hint()\n",
    "q2.solution()"
   ]
  },
  {
   "cell_type": "markdown",
   "id": "6ffb45f8",
   "metadata": {
    "papermill": {
     "duration": 0.021284,
     "end_time": "2022-02-11T18:27:46.365839",
     "exception": false,
     "start_time": "2022-02-11T18:27:46.344555",
     "status": "completed"
    },
    "tags": []
   },
   "source": [
    "police_killings # 3) Saving your files with UTF-8 encoding\n",
    "\n",
    "Save a version of the police killings dataset to CSV with UTF-8 encoding.  Your answer will be marked correct after saving this file.  \n",
    "\n",
    "Note: When using the `to_csv()` method, supply only the name of the file (e.g., `\"my_file.csv\"`).  This saves the file at the filepath `\"/kaggle/working/my_file.csv\"`."
   ]
  },
  {
   "cell_type": "code",
   "execution_count": 9,
   "id": "41e7a955",
   "metadata": {
    "execution": {
     "iopub.execute_input": "2022-02-11T18:27:46.411058Z",
     "iopub.status.busy": "2022-02-11T18:27:46.410559Z",
     "iopub.status.idle": "2022-02-11T18:27:46.439407Z",
     "shell.execute_reply": "2022-02-11T18:27:46.439832Z",
     "shell.execute_reply.started": "2022-02-11T18:27:04.497356Z"
    },
    "papermill": {
     "duration": 0.053029,
     "end_time": "2022-02-11T18:27:46.439994",
     "exception": false,
     "start_time": "2022-02-11T18:27:46.386965",
     "status": "completed"
    },
    "tags": []
   },
   "outputs": [
    {
     "data": {
      "application/javascript": [
       "parent.postMessage({\"jupyterEvent\": \"custom.exercise_interaction\", \"data\": {\"outcomeType\": 1, \"valueTowardsCompletion\": 0.3333333333333333, \"interactionType\": 1, \"questionType\": 2, \"questionId\": \"3_SaveCSV\", \"learnToolsVersion\": \"0.3.4\", \"failureMessage\": \"\", \"exceptionClass\": \"\", \"trace\": \"\"}}, \"*\")"
      ],
      "text/plain": [
       "<IPython.core.display.Javascript object>"
      ]
     },
     "metadata": {},
     "output_type": "display_data"
    },
    {
     "data": {
      "text/markdown": [
       "<span style=\"color:#33cc33\">Correct</span>"
      ],
      "text/plain": [
       "Correct"
      ]
     },
     "metadata": {},
     "output_type": "display_data"
    }
   ],
   "source": [
    "# TODO: Save the police killings dataset to CSV\n",
    "police_killings.to_csv(\"/kaggle/working/my_file.csv\")\n",
    "# Check your answer\n",
    "q3.check()"
   ]
  },
  {
   "cell_type": "code",
   "execution_count": 10,
   "id": "a1292d10",
   "metadata": {
    "execution": {
     "iopub.execute_input": "2022-02-11T18:27:46.487338Z",
     "iopub.status.busy": "2022-02-11T18:27:46.486815Z",
     "iopub.status.idle": "2022-02-11T18:27:46.489346Z",
     "shell.execute_reply": "2022-02-11T18:27:46.489785Z",
     "shell.execute_reply.started": "2022-02-11T18:27:08.710809Z"
    },
    "papermill": {
     "duration": 0.027732,
     "end_time": "2022-02-11T18:27:46.489938",
     "exception": false,
     "start_time": "2022-02-11T18:27:46.462206",
     "status": "completed"
    },
    "tags": []
   },
   "outputs": [],
   "source": [
    "# Lines below will give you a hint or solution code\n",
    "#q3.hint()\n",
    "#q3.solution()"
   ]
  },
  {
   "cell_type": "markdown",
   "id": "38c14220",
   "metadata": {
    "papermill": {
     "duration": 0.021049,
     "end_time": "2022-02-11T18:27:46.532535",
     "exception": false,
     "start_time": "2022-02-11T18:27:46.511486",
     "status": "completed"
    },
    "tags": []
   },
   "source": [
    "# (Optional) More practice\n",
    "\n",
    "Check out [this dataset of files in different character encodings](https://www.kaggle.com/rtatman/character-encoding-examples). Can you read in all the files with their original encodings and them save them out as UTF-8 files?\n",
    "\n",
    "If you have a file that's in UTF-8 but has just a couple of weird-looking characters in it, you can try out the [ftfy module](https://ftfy.readthedocs.io/en/latest/#) and see if it helps. \n",
    "\n",
    "# Keep going\n",
    "\n",
    "In the final lesson, learn how to [**clean up inconsistent text entries**](https://www.kaggle.com/alexisbcook/inconsistent-data-entry) in your dataset."
   ]
  },
  {
   "cell_type": "markdown",
   "id": "da536264",
   "metadata": {
    "papermill": {
     "duration": 0.021517,
     "end_time": "2022-02-11T18:27:46.575668",
     "exception": false,
     "start_time": "2022-02-11T18:27:46.554151",
     "status": "completed"
    },
    "tags": []
   },
   "source": [
    "---\n",
    "\n",
    "\n",
    "\n",
    "\n",
    "*Have questions or comments? Visit the [course discussion forum](https://www.kaggle.com/learn/data-cleaning/discussion) to chat with other learners.*"
   ]
  },
  {
   "cell_type": "code",
   "execution_count": null,
   "id": "9154adc3",
   "metadata": {
    "papermill": {
     "duration": 0.021202,
     "end_time": "2022-02-11T18:27:46.618412",
     "exception": false,
     "start_time": "2022-02-11T18:27:46.597210",
     "status": "completed"
    },
    "tags": []
   },
   "outputs": [],
   "source": []
  }
 ],
 "metadata": {
  "kernelspec": {
   "display_name": "Python 3",
   "language": "python",
   "name": "python3"
  },
  "language_info": {
   "codemirror_mode": {
    "name": "ipython",
    "version": 3
   },
   "file_extension": ".py",
   "mimetype": "text/x-python",
   "name": "python",
   "nbconvert_exporter": "python",
   "pygments_lexer": "ipython3",
   "version": "3.7.12"
  },
  "papermill": {
   "default_parameters": {},
   "duration": 14.390834,
   "end_time": "2022-02-11T18:27:47.351763",
   "environment_variables": {},
   "exception": null,
   "input_path": "__notebook__.ipynb",
   "output_path": "__notebook__.ipynb",
   "parameters": {},
   "start_time": "2022-02-11T18:27:32.960929",
   "version": "2.3.3"
  }
 },
 "nbformat": 4,
 "nbformat_minor": 5
}
